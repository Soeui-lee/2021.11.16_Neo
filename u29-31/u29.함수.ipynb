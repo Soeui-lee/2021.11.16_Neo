{
 "cells": [
  {
   "cell_type": "markdown",
   "metadata": {},
   "source": [
    "# Unit 29. 함수(Function)"
   ]
  },
  {
   "cell_type": "code",
   "execution_count": 2,
   "metadata": {},
   "outputs": [],
   "source": [
    "# 함수 만들기 \n",
    "def hello(): \n",
    "    print('Hello, world!')"
   ]
  },
  {
   "cell_type": "code",
   "execution_count": 5,
   "metadata": {},
   "outputs": [
    {
     "name": "stdout",
     "output_type": "stream",
     "text": [
      "Hello, world!\n"
     ]
    }
   ],
   "source": [
    "hello()       # 함수 호출 \n",
    "              # 괄호를 꼭 열닫 \n",
    "              # 만들고 - 호출 순서* "
   ]
  },
  {
   "cell_type": "code",
   "execution_count": 6,
   "metadata": {},
   "outputs": [],
   "source": [
    "# 덧셈함수 \n",
    "\n",
    "def add(a,b):\n",
    "    print(a+b)\n",
    "\n",
    "# 매개변수(parameter, argument)가 있는 함수(def의 a,b) (print의 a,b는 인수)"
   ]
  },
  {
   "cell_type": "code",
   "execution_count": 8,
   "metadata": {},
   "outputs": [
    {
     "name": "stdout",
     "output_type": "stream",
     "text": [
      "30\n"
     ]
    }
   ],
   "source": [
    "add(10,20)"
   ]
  },
  {
   "cell_type": "code",
   "execution_count": null,
   "metadata": {},
   "outputs": [],
   "source": [
    "# 독스트링 사용하기 \n",
    "\n",
    "def add(a,b):                                               # 함수 정의 밑에\n",
    "    \"\"\"숫자 두 개를 입력하면 결과를 출력해주는 함수   \n",
    "    이것을 독스트링이라고 함\"\"\"                                      \n",
    "    print(a+b)"
   ]
  },
  {
   "cell_type": "code",
   "execution_count": null,
   "metadata": {},
   "outputs": [],
   "source": [
    "add()       # 괄호 치는 순간 설명으로 추가됨을 볼 수 있"
   ]
  },
  {
   "cell_type": "code",
   "execution_count": 9,
   "metadata": {},
   "outputs": [],
   "source": [
    "# 결과값을 반환해주는 함수 \n",
    "\n",
    "def add2(a,b):\n",
    "    return a+b"
   ]
  },
  {
   "cell_type": "code",
   "execution_count": 10,
   "metadata": {},
   "outputs": [
    {
     "name": "stdout",
     "output_type": "stream",
     "text": [
      "7\n"
     ]
    }
   ],
   "source": [
    "print(add2(3,4))"
   ]
  },
  {
   "cell_type": "code",
   "execution_count": null,
   "metadata": {},
   "outputs": [],
   "source": [
    "# return으로 함수 중간에 빠져나오기 \n",
    "\n",
    "def not_ten(a):\n",
    "     if a == 10:\n",
    "         return                     # return으로 돌아가면\n",
    "     print(a, '입니다.', sep='')    # else는 적을 필요X /else가 있는 거나 마찬가지라고 생각\n",
    "\n",
    ">>> not_ten(5)\n",
    "5입니다.\n",
    ">>> not_ten(10)\n",
    ">>> \n",
    "\n"
   ]
  },
  {
   "cell_type": "code",
   "execution_count": 12,
   "metadata": {},
   "outputs": [],
   "source": [
    "# 값을 여러 개 반환 / 콤마로 구분, 리스트/튜플 직접반환O\n",
    "\n",
    "def add_sub(a,b): \n",
    "    return a+b, a-b"
   ]
  },
  {
   "cell_type": "code",
   "execution_count": 13,
   "metadata": {},
   "outputs": [],
   "source": [
    "x, y = add_sub(40,30)"
   ]
  },
  {
   "cell_type": "code",
   "execution_count": 16,
   "metadata": {},
   "outputs": [
    {
     "data": {
      "text/plain": [
       "70"
      ]
     },
     "execution_count": 16,
     "metadata": {},
     "output_type": "execute_result"
    }
   ],
   "source": [
    "x"
   ]
  },
  {
   "cell_type": "code",
   "execution_count": 15,
   "metadata": {},
   "outputs": [
    {
     "data": {
      "text/plain": [
       "10"
      ]
     },
     "execution_count": 15,
     "metadata": {},
     "output_type": "execute_result"
    }
   ],
   "source": [
    "y"
   ]
  },
  {
   "cell_type": "code",
   "execution_count": 17,
   "metadata": {},
   "outputs": [],
   "source": [
    "# y 값 이용하지 않는 경우 dummy 변수(_)  - 이거 문제에서 어떻게 쓰이는지 궁금한데\n",
    "\n",
    "x, _ = add_sub(30,40)"
   ]
  },
  {
   "cell_type": "markdown",
   "metadata": {},
   "source": [
    "-u 29 심사문제 "
   ]
  },
  {
   "cell_type": "code",
   "execution_count": 77,
   "metadata": {},
   "outputs": [
    {
     "name": "stdout",
     "output_type": "stream",
     "text": [
      "덧셈:30, 뺄셈:-10, 곱셈:200, 나눗셈:0.5\n"
     ]
    }
   ],
   "source": [
    "# me 풀이 /심사 불통\n",
    "x, y = map(int, input().split())\n",
    "\n",
    "def math(x,y):\n",
    "    return x+y , x-y , x*y, x/y\n",
    "\n",
    "a,b,c,d = math(x,y)\n",
    "print(f'덧셈:{a}, 뺄셈:{b}, 곱셈:{c}, 나눗셈:{d}')"
   ]
  },
  {
   "cell_type": "code",
   "execution_count": 66,
   "metadata": {},
   "outputs": [
    {
     "name": "stdout",
     "output_type": "stream",
     "text": [
      "덧셈:30, 뺄셈:-10, 곱셈:200, 나눗셈:0.5\n"
     ]
    }
   ],
   "source": [
    "x, y = map(int, input().split())\n",
    "def math(x,y):\n",
    "    return x+y , x-y , x*y, x/y \n",
    "a,b,c,d = math(x,y)\n",
    "print('덧셈:{0}, 뺄셈:{1}, 곱셈:{2}, 나눗셈:{3}'.format(a,b,c,d))"
   ]
  },
  {
   "cell_type": "code",
   "execution_count": 74,
   "metadata": {},
   "outputs": [
    {
     "name": "stdout",
     "output_type": "stream",
     "text": [
      "덧셈:30, 뺄셈:-10, 곱셈:200, 나눗셈:0.5\n"
     ]
    }
   ],
   "source": [
    "# 심사문제 형식에 맞췄는데도 불통.. # float(x/y) >> x/y 습관들이기 (큰 차이는 모르겠다구T) \n",
    "x, y = map(int, input().split())\n",
    "def calc(x,y):\n",
    "    return x+y , x-y , x*y, x/y \n",
    "a,s,m,d = calc(x,y)\n",
    "print('덧셈:{0}, 뺄셈:{1}, 곱셈:{2}, 나눗셈:{3}'.format(a,s,m,d))"
   ]
  },
  {
   "cell_type": "code",
   "execution_count": 73,
   "metadata": {},
   "outputs": [
    {
     "name": "stdout",
     "output_type": "stream",
     "text": [
      "덧셈: 30, 뺄셈: -10, 곱셈: 200, 나눗셈:0.5\n"
     ]
    }
   ],
   "source": [
    "# 통과 답 \n",
    "x,y = map(int, input().split())\n",
    "def math(x,y):\n",
    "    a = x+y\n",
    "    s = x-y\n",
    "    m = x*y\n",
    "    d = float(x/y)\n",
    "    return a,b,c,d \n",
    "\n",
    "a,s,m,d = math(x,y)\n",
    "print(f'덧셈: {a}, 뺄셈: {s}, 곱셈: {m}, 나눗셈:{d}')"
   ]
  },
  {
   "cell_type": "markdown",
   "metadata": {},
   "source": [
    "- 해보세요.\n",
    "- circle_info(radius) 라는 함수 생성\n",
    "- 면적()"
   ]
  },
  {
   "cell_type": "code",
   "execution_count": null,
   "metadata": {},
   "outputs": [],
   "source": []
  }
 ],
 "metadata": {
  "interpreter": {
   "hash": "d990e0f5c79ab62bfe20220d5fc8769a25e3da57dce2813cc13c29871ddc1bfb"
  },
  "kernelspec": {
   "display_name": "Python 3.8.8 64-bit ('base': conda)",
   "language": "python",
   "name": "python3"
  },
  "language_info": {
   "codemirror_mode": {
    "name": "ipython",
    "version": 3
   },
   "file_extension": ".py",
   "mimetype": "text/x-python",
   "name": "python",
   "nbconvert_exporter": "python",
   "pygments_lexer": "ipython3",
   "version": "3.8.8"
  },
  "orig_nbformat": 4
 },
 "nbformat": 4,
 "nbformat_minor": 2
}
