{
 "cells": [
  {
   "cell_type": "code",
   "execution_count": 1,
   "metadata": {},
   "outputs": [
    {
     "name": "stdout",
     "output_type": "stream",
     "text": [
      "이 숫자는\n",
      "11보다 하나 적은 수입니다.\n"
     ]
    }
   ],
   "source": [
    "x = 10\n",
    "if x == 10:\n",
    "    print('이 숫자는')\n",
    "    print('11보다 하나 적은 수입니다.')"
   ]
  },
  {
   "cell_type": "code",
   "execution_count": 4,
   "metadata": {},
   "outputs": [
    {
     "name": "stdout",
     "output_type": "stream",
     "text": [
      "8이상입니다.\n"
     ]
    }
   ],
   "source": [
    "x = 10\n",
    "if x >=8:\n",
    "    print('8이상입니다.')\n",
    "    if x >= 15:\n",
    "        print('15 이상입니다.')\n",
    "    if x >= 30:\n",
    "        print('30 이상입니다.')"
   ]
  },
  {
   "cell_type": "code",
   "execution_count": 6,
   "metadata": {},
   "outputs": [
    {
     "name": "stdout",
     "output_type": "stream",
     "text": [
      "10초과\n",
      "5의 배수\n"
     ]
    }
   ],
   "source": [
    "x = 25\n",
    "if x > 10:\n",
    "    print('10초과')\n",
    "    if x % 3 == 0:   \n",
    "        print('3의 배수')\n",
    "    if x % 5 == 0:    \n",
    "            print('5의 배수') "
   ]
  },
  {
   "cell_type": "code",
   "execution_count": 9,
   "metadata": {},
   "outputs": [
    {
     "ename": "IndentationError",
     "evalue": "expected an indented block (<ipython-input-9-6a2b021f40ef>, line 8)",
     "output_type": "error",
     "traceback": [
      "\u001b[1;36m  File \u001b[1;32m\"<ipython-input-9-6a2b021f40ef>\"\u001b[1;36m, line \u001b[1;32m8\u001b[0m\n\u001b[1;33m    print('5의 배수')\u001b[0m\n\u001b[1;37m    ^\u001b[0m\n\u001b[1;31mIndentationError\u001b[0m\u001b[1;31m:\u001b[0m expected an indented block\n"
     ]
    }
   ],
   "source": [
    "x = int(input('정수 입력'))\n",
    "if x > 10:\n",
    "    print('10초과')\n",
    "    if x % 3 == 0:   # x가 3의 배수냐\n",
    "        print('3의 배수')\n",
    "        if x % 5 == 0:    \n",
    "            \n",
    "        print('5의 배수')\n"
   ]
  },
  {
   "cell_type": "code",
   "execution_count": null,
   "metadata": {},
   "outputs": [],
   "source": [
    "x= int(input('정수 입력'))\n",
    "if x > 10:\n",
    "    print('10초과')\n",
    "    "
   ]
  },
  {
   "cell_type": "code",
   "execution_count": 10,
   "metadata": {},
   "outputs": [
    {
     "name": "stdout",
     "output_type": "stream",
     "text": [
      "ok\n"
     ]
    }
   ],
   "source": [
    "x = 5\n",
    "if x != 10:\n",
    "    print('ok')"
   ]
  },
  {
   "cell_type": "code",
   "execution_count": null,
   "metadata": {},
   "outputs": [],
   "source": [
    "Cash3000, Cash5000 = map(int, input().split())\n",
    "if x == Cash3000:\n",
    "    print(M-3000)"
   ]
  },
  {
   "cell_type": "code",
   "execution_count": 13,
   "metadata": {},
   "outputs": [
    {
     "name": "stdout",
     "output_type": "stream",
     "text": [
      "67000\n",
      "\n"
     ]
    }
   ],
   "source": [
    "# 가격 = price / 쿠폰 = coupon \n",
    "price = int(input())\n",
    "coupon = input('')\n",
    "\n",
    "if coupon == 'Cash3000':\n",
    "    print(price - 3000)\n",
    "if coupon == 'Cash5000':\n",
    "    print(price - 5000)\n",
    "print()    "
   ]
  },
  {
   "cell_type": "code",
   "execution_count": 15,
   "metadata": {},
   "outputs": [
    {
     "data": {
      "text/plain": [
       "0"
      ]
     },
     "execution_count": 15,
     "metadata": {},
     "output_type": "execute_result"
    }
   ],
   "source": [
    "x = 5\n",
    "if x == 10:\n",
    "    y = x\n",
    "else:\n",
    "    y = 0\n",
    "\n",
    "y"
   ]
  },
  {
   "cell_type": "code",
   "execution_count": 20,
   "metadata": {},
   "outputs": [
    {
     "name": "stdout",
     "output_type": "stream",
     "text": [
      "거짓\n"
     ]
    }
   ],
   "source": [
    "if 0:\n",
    "    print('참')\n",
    "else:\n",
    "    print('거짓')\n",
    "\n",
    "\n"
   ]
  },
  {
   "cell_type": "code",
   "execution_count": 22,
   "metadata": {},
   "outputs": [
    {
     "name": "stdout",
     "output_type": "stream",
     "text": [
      "거짓\n"
     ]
    }
   ],
   "source": [
    "x = 10\n",
    "y = 20\n",
    "if x ==10 and y ==30:\n",
    "    print('참')\n",
    "else:\n",
    "    print('거짓')"
   ]
  },
  {
   "cell_type": "code",
   "execution_count": 23,
   "metadata": {},
   "outputs": [
    {
     "name": "stdout",
     "output_type": "stream",
     "text": [
      "15보다 작은 양수입니다.\n"
     ]
    }
   ],
   "source": [
    "x = 10\n",
    "if 0<x<15:\n",
    "    print('15보다 작은 양수입니다.')\n",
    "else:\n",
    "    print('룰루')"
   ]
  },
  {
   "cell_type": "code",
   "execution_count": 24,
   "metadata": {},
   "outputs": [
    {
     "name": "stdout",
     "output_type": "stream",
     "text": [
      "20보다 작은 양수입니다.\n"
     ]
    }
   ],
   "source": [
    "x = 10\n",
    "if x >0:\n",
    "    if x <20:\n",
    "        print('20보다 작은 양수입니다.')"
   ]
  },
  {
   "cell_type": "code",
   "execution_count": 25,
   "metadata": {},
   "outputs": [
    {
     "name": "stdout",
     "output_type": "stream",
     "text": [
      "불합격\n"
     ]
    }
   ],
   "source": [
    "written_test = 75\n",
    "coding_test = True\n",
    "if written_test>=80 and coding_test==True:\n",
    "    print('합격')\n",
    "else:\n",
    "    print('불합격')\n"
   ]
  },
  {
   "cell_type": "code",
   "execution_count": 30,
   "metadata": {},
   "outputs": [
    {
     "name": "stdout",
     "output_type": "stream",
     "text": [
      "잘못된 점수\n"
     ]
    }
   ],
   "source": [
    "korean, english, math, science = map(int, input().split())\n",
    "if 0<=korean<=100 and 0<=english<=100 and 0<=math<=100 and 0<=science<=100:\n",
    "    if (korean+english+math+science) / 4 >= 80:\n",
    "        print('합격')\n",
    "    else:\n",
    "        print('불합격')\n",
    "else: \n",
    "    print('잘못된 점수')\n",
    "\n",
    "    # % : 배수 \n",
    "    # / : 나누기 **구분!! \n",
    "\n",
    "\n"
   ]
  },
  {
   "cell_type": "code",
   "execution_count": null,
   "metadata": {},
   "outputs": [],
   "source": []
  }
 ],
 "metadata": {
  "interpreter": {
   "hash": "d990e0f5c79ab62bfe20220d5fc8769a25e3da57dce2813cc13c29871ddc1bfb"
  },
  "kernelspec": {
   "display_name": "Python 3.8.8 64-bit ('base': conda)",
   "language": "python",
   "name": "python3"
  },
  "language_info": {
   "codemirror_mode": {
    "name": "ipython",
    "version": 3
   },
   "file_extension": ".py",
   "mimetype": "text/x-python",
   "name": "python",
   "nbconvert_exporter": "python",
   "pygments_lexer": "ipython3",
   "version": "3.8.8"
  },
  "orig_nbformat": 4
 },
 "nbformat": 4,
 "nbformat_minor": 2
}
