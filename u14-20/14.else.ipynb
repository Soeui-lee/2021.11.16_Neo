{
 "cells": [
  {
   "cell_type": "markdown",
   "metadata": {},
   "source": [
    "# Unit 14. Else"
   ]
  },
  {
   "cell_type": "code",
   "execution_count": 1,
   "metadata": {},
   "outputs": [
    {
     "name": "stdout",
     "output_type": "stream",
     "text": [
      "10 이하\n"
     ]
    }
   ],
   "source": [
    "x=5 \n",
    "if x > 10 :\n",
    "    print('10초과')\n",
    "else:\n",
    "    print('10 이하')"
   ]
  },
  {
   "cell_type": "code",
   "execution_count": 10,
   "metadata": {},
   "outputs": [
    {
     "name": "stdout",
     "output_type": "stream",
     "text": [
      "29는 홀수\n"
     ]
    }
   ],
   "source": [
    "# seed 안 해서 선생님과 동일하게는 안 나옴 \n",
    "import random\n",
    "x = random.randint(1,100)\n",
    "if x % 2 == 0:\n",
    "    print(f'{x}는 짝수')\n",
    "else: \n",
    "    print(f'{x}는 홀수')    "
   ]
  },
  {
   "cell_type": "code",
   "execution_count": 13,
   "metadata": {},
   "outputs": [
    {
     "name": "stdout",
     "output_type": "stream",
     "text": [
      "88는 짝수\n"
     ]
    }
   ],
   "source": [
    "# 한 줄 드래그 + 컨 + 쉬+ K = 삭제 \n",
    "\n",
    "x = random.randint(1,100)\n",
    "if x % 2 == 0:\n",
    "    result = '짝수'\n",
    "else: \n",
    "    result = '홀수'\n",
    "print(f'{x}는 {result}')    "
   ]
  },
  {
   "cell_type": "code",
   "execution_count": 18,
   "metadata": {},
   "outputs": [
    {
     "name": "stdout",
     "output_type": "stream",
     "text": [
      "43는 홀수\n"
     ]
    }
   ],
   "source": [
    "# 3항 연산자 \n",
    "\n",
    "x = random.randint(1,100)\n",
    "result = '짝수' if x % 2 == 0 else '홀수'\n",
    "print(f'{x}는 {result}')    "
   ]
  },
  {
   "cell_type": "markdown",
   "metadata": {},
   "source": [
    "- 여러 개의 조건식"
   ]
  },
  {
   "cell_type": "code",
   "execution_count": 3,
   "metadata": {},
   "outputs": [
    {
     "name": "stdout",
     "output_type": "stream",
     "text": [
      "20보다 작은 양수입니다.\n"
     ]
    }
   ],
   "source": [
    "x = 10\n",
    "if x > 0:\n",
    "    if x < 20:\n",
    "        print('20보다 작은 양수입니다.')"
   ]
  },
  {
   "cell_type": "code",
   "execution_count": 7,
   "metadata": {},
   "outputs": [
    {
     "name": "stdout",
     "output_type": "stream",
     "text": [
      "20보다 작은 양수입니다.\n"
     ]
    }
   ],
   "source": [
    "if x > 0 and x < 20:\n",
    "    print('20보다 작은 양수입니다.')\n",
    "    # 타 프로그램에서 사용하는 양식/ 파이썬도 가능하지만"
   ]
  },
  {
   "cell_type": "code",
   "execution_count": 6,
   "metadata": {},
   "outputs": [
    {
     "name": "stdout",
     "output_type": "stream",
     "text": [
      "20보다 작은 양수입니다.\n"
     ]
    }
   ],
   "source": [
    "if 0 < x < 20:\n",
    "    print('20보다 작은 양수입니다.')\n",
    "\n",
    "    # 파이썬에서 가능한 양식 \n",
    "    "
   ]
  },
  {
   "cell_type": "code",
   "execution_count": null,
   "metadata": {},
   "outputs": [],
   "source": [
    "# 3항 연산자 () 는 꼭 기억했음... 하심\n",
    "result = '짝수' if x % 2 == 0 else '홀수'"
   ]
  }
 ],
 "metadata": {
  "interpreter": {
   "hash": "d990e0f5c79ab62bfe20220d5fc8769a25e3da57dce2813cc13c29871ddc1bfb"
  },
  "kernelspec": {
   "display_name": "Python 3.8.8 64-bit ('base': conda)",
   "language": "python",
   "name": "python3"
  },
  "language_info": {
   "codemirror_mode": {
    "name": "ipython",
    "version": 3
   },
   "file_extension": ".py",
   "mimetype": "text/x-python",
   "name": "python",
   "nbconvert_exporter": "python",
   "pygments_lexer": "ipython3",
   "version": "3.8.8"
  },
  "orig_nbformat": 4
 },
 "nbformat": 4,
 "nbformat_minor": 2
}
