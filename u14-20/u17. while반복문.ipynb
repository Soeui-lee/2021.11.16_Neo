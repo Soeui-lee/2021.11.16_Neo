{
 "cells": [
  {
   "cell_type": "markdown",
   "metadata": {},
   "source": [
    "# Unit 17. While 반복문"
   ]
  },
  {
   "cell_type": "code",
   "execution_count": 1,
   "metadata": {},
   "outputs": [
    {
     "name": "stdout",
     "output_type": "stream",
     "text": [
      "Hello world! 0\n",
      "Hello world! 1\n",
      "Hello world! 2\n",
      "Hello world! 3\n",
      "Hello world! 4\n"
     ]
    }
   ],
   "source": [
    "# 횟수가 정해지지 X\n",
    "# 조건식: 조건을 만족하는 동안 반복한다.\n",
    "# 횟수가 정해져 있는 반복문은 while에 어울리지X \n",
    "i = 0\n",
    "while i < 5:\n",
    "    print('Hello world!', i)\n",
    "    i +=1   # 얘 왜 넣는다고..? "
   ]
  },
  {
   "cell_type": "markdown",
   "metadata": {},
   "source": [
    "- 횟수가 정해지지 않은 반복문"
   ]
  },
  {
   "cell_type": "code",
   "execution_count": 2,
   "metadata": {},
   "outputs": [
    {
     "name": "stdout",
     "output_type": "stream",
     "text": [
      "4 6 5 "
     ]
    }
   ],
   "source": [
    "import random as rd # random을 다 쓰기 귀찮으니 앞으로는 rd 라고 부르겠다..\n",
    "rd.seed(2021) # 선생님하고 똑같은 값 나오기 위해 seed   # dice=주사위 \n",
    "dice = rd.randint(1,6)\n",
    "while dice != 3:\n",
    "    print(dice, end = ' ')\n",
    "    dice = rd.randint(1,6)\n",
    "\n",
    "    # .....? 이거 다시 \n"
   ]
  },
  {
   "cell_type": "markdown",
   "metadata": {},
   "source": [
    "- 무한 루프 반복"
   ]
  },
  {
   "cell_type": "code",
   "execution_count": null,
   "metadata": {},
   "outputs": [],
   "source": []
  }
 ],
 "metadata": {
  "interpreter": {
   "hash": "d990e0f5c79ab62bfe20220d5fc8769a25e3da57dce2813cc13c29871ddc1bfb"
  },
  "kernelspec": {
   "display_name": "Python 3.8.8 64-bit ('base': conda)",
   "language": "python",
   "name": "python3"
  },
  "language_info": {
   "codemirror_mode": {
    "name": "ipython",
    "version": 3
   },
   "file_extension": ".py",
   "mimetype": "text/x-python",
   "name": "python",
   "nbconvert_exporter": "python",
   "pygments_lexer": "ipython3",
   "version": "3.8.8"
  },
  "orig_nbformat": 4
 },
 "nbformat": 4,
 "nbformat_minor": 2
}
