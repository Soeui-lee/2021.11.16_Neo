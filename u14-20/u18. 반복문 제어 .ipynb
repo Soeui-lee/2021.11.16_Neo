{
 "cells": [
  {
   "cell_type": "markdown",
   "metadata": {},
   "source": [
    "# Unit 18. Break와 Continue"
   ]
  },
  {
   "cell_type": "markdown",
   "metadata": {},
   "source": [
    "### 18-1. Break 브레이크"
   ]
  },
  {
   "cell_type": "code",
   "execution_count": null,
   "metadata": {},
   "outputs": [],
   "source": [
    "# 반복문 탈출 \n",
    "# 브레이크 한 번 -- 한 반복문 탈출 \n"
   ]
  },
  {
   "cell_type": "code",
   "execution_count": 4,
   "metadata": {},
   "outputs": [
    {
     "name": "stdout",
     "output_type": "stream",
     "text": [
      "4 6 5 3 "
     ]
    }
   ],
   "source": [
    "import random\n",
    "random.seed(2021)\n",
    "while True:  # while 1 도 가능함 1은 True로 침 \n",
    "    dice = random.randint(1,6)\n",
    "    print(dice, end = ' ')\n",
    "    if dice == 3:\n",
    "        break\n",
    "\n",
    "    # 3을 출력하고 빠져나옴"
   ]
  },
  {
   "cell_type": "code",
   "execution_count": 3,
   "metadata": {},
   "outputs": [
    {
     "name": "stdout",
     "output_type": "stream",
     "text": [
      "1 2 5 1 6 4 2 5 2 5 4 6 2 5 3 "
     ]
    }
   ],
   "source": [
    "import random\n",
    "while True:\n",
    "    dice = random.randint(1,6)\n",
    "    print(dice, end =' ')\n",
    "    if dice == 3:\n",
    "        break"
   ]
  },
  {
   "cell_type": "code",
   "execution_count": 9,
   "metadata": {},
   "outputs": [
    {
     "name": "stdout",
     "output_type": "stream",
     "text": [
      "(1, 2) (2, 4) (4, 4) (1, 6) (5, 2) (4, 4) (3, 2) (3, 1) (1, 5) (2, 2) (2, 2) (4, 4) (5, 6) "
     ]
    }
   ],
   "source": [
    "# 주사위를 두 번 던져서 두 눈의 합이 10 이상이면 탈출하세요.\n",
    "while 1: \n",
    "    d1 = random.randint(1,6)\n",
    "    d2 = random.randint(1,6)\n",
    "    print(f'({d1}, {d2})', end = ' ')       \n",
    "    if d1 + d2 >=10:\n",
    "        break"
   ]
  },
  {
   "cell_type": "markdown",
   "metadata": {},
   "source": [
    "- 반복문 응용"
   ]
  },
  {
   "cell_type": "code",
   "execution_count": 8,
   "metadata": {},
   "outputs": [
    {
     "name": "stdout",
     "output_type": "stream",
     "text": [
      "5050\n"
     ]
    }
   ],
   "source": [
    "# 1에서 100까지의 합   # 반복문의 아주 기본이 되는 코드 \n",
    "\n",
    "sum = 0                # 덧셈의 초기화 \n",
    "for i in range(1,101): # 문제는 100이지만 101로 바꿔주기 \n",
    "    sum +=i\n",
    "print(sum)    "
   ]
  },
  {
   "cell_type": "code",
   "execution_count": 9,
   "metadata": {},
   "outputs": [
    {
     "name": "stdout",
     "output_type": "stream",
     "text": [
      "3628800\n"
     ]
    }
   ],
   "source": [
    "# 1에서 10까지의 곱 \n",
    "\n",
    "product = 1            # 곱셈의 초기화 \n",
    "for i in range(1,11):\n",
    "    product *= i \n",
    "print(product)    "
   ]
  },
  {
   "cell_type": "code",
   "execution_count": 14,
   "metadata": {},
   "outputs": [
    {
     "data": {
      "text/plain": [
       "2.0"
      ]
     },
     "execution_count": 14,
     "metadata": {},
     "output_type": "execute_result"
    }
   ],
   "source": [
    "import math\n",
    "math.sqrt(4)\n",
    "\n",
    "# 루트 씌워주는 메소드"
   ]
  },
  {
   "cell_type": "markdown",
   "metadata": {},
   "source": [
    "- 1에서 10까지 루트값 계산하여 리스트로 만들기"
   ]
  },
  {
   "cell_type": "code",
   "execution_count": 22,
   "metadata": {},
   "outputs": [
    {
     "data": {
      "text/plain": [
       "[1.0, 1.4142, 1.7321, 2.0, 2.2361, 2.4495, 2.6458, 2.8284, 3.0, 3.1623]"
      ]
     },
     "execution_count": 22,
     "metadata": {},
     "output_type": "execute_result"
    }
   ],
   "source": [
    "# sqrt_num = 빈 리스트 생성\n",
    "# append = 빈 리스트에 채워넣기\n",
    "# round = 소수점 ~까지만 보여주기 ( 반올림 포함 ) \n",
    "\n",
    "sqrt_num = []\n",
    "for i in range(1,11):\n",
    "    sqrt_num.append(round(math.sqrt(i),4))      # 소숫점 5에서 반올림\n",
    "sqrt_num    "
   ]
  },
  {
   "cell_type": "code",
   "execution_count": 12,
   "metadata": {},
   "outputs": [
    {
     "name": "stdout",
     "output_type": "stream",
     "text": [
      "25 325\n"
     ]
    }
   ],
   "source": [
    "# for-loop, 1에서 얼마까지 더하면 누적합이 300을 초과하는지 \n",
    "sum = 0\n",
    "for i in range(300):\n",
    "    sum +=i\n",
    "    if sum > 300:\n",
    "        break\n",
    "print(i, sum)    "
   ]
  },
  {
   "cell_type": "code",
   "execution_count": 23,
   "metadata": {},
   "outputs": [
    {
     "name": "stdout",
     "output_type": "stream",
     "text": [
      "25 325\n"
     ]
    }
   ],
   "source": [
    "sum = 0\n",
    "for i in range(300):\n",
    "    sum += i \n",
    "    if sum > 300:\n",
    "        break\n",
    "print(i, sum )"
   ]
  },
  {
   "cell_type": "code",
   "execution_count": 24,
   "metadata": {},
   "outputs": [],
   "source": [
    "# while로 할 수 있는 방법은 없나?\n",
    "    \n",
    "    "
   ]
  },
  {
   "cell_type": "code",
   "execution_count": null,
   "metadata": {},
   "outputs": [],
   "source": []
  }
 ],
 "metadata": {
  "interpreter": {
   "hash": "d990e0f5c79ab62bfe20220d5fc8769a25e3da57dce2813cc13c29871ddc1bfb"
  },
  "kernelspec": {
   "display_name": "Python 3.8.8 64-bit ('base': conda)",
   "language": "python",
   "name": "python3"
  },
  "language_info": {
   "codemirror_mode": {
    "name": "ipython",
    "version": 3
   },
   "file_extension": ".py",
   "mimetype": "text/x-python",
   "name": "python",
   "nbconvert_exporter": "python",
   "pygments_lexer": "ipython3",
   "version": "3.8.8"
  },
  "orig_nbformat": 4
 },
 "nbformat": 4,
 "nbformat_minor": 2
}
