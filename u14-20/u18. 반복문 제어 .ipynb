{
 "cells": [
  {
   "cell_type": "markdown",
   "metadata": {},
   "source": [
    "# Unit 18. Break와 Continue"
   ]
  },
  {
   "cell_type": "markdown",
   "metadata": {},
   "source": [
    "- 18-1. Break 브레이크"
   ]
  },
  {
   "cell_type": "code",
   "execution_count": null,
   "metadata": {},
   "outputs": [],
   "source": [
    "# 반복문 탈출 \n",
    "# 브레이크 한 번 -- 한 반복문 탈출 \n"
   ]
  },
  {
   "cell_type": "code",
   "execution_count": 1,
   "metadata": {},
   "outputs": [
    {
     "name": "stdout",
     "output_type": "stream",
     "text": [
      "4 6 5 3 "
     ]
    }
   ],
   "source": [
    "import random\n",
    "random.seed(2021)\n",
    "while True:  # while 1 도 가능함 1은 True로 침 \n",
    "    dice = random.randint(1,6)\n",
    "    print(dice, end = ' ')\n",
    "    if dice == 3:\n",
    "        break\n",
    "\n",
    "    # 3을 출력하고 빠져나옴.. (?) "
   ]
  },
  {
   "cell_type": "code",
   "execution_count": 6,
   "metadata": {},
   "outputs": [
    {
     "name": "stdout",
     "output_type": "stream",
     "text": [
      "(5, 3) (2, 6) (1, 4) (4, 5) (1, 3) (3, 3) (4, 1) (2, 2) (1, 6) (1, 6) (6, 5) "
     ]
    }
   ],
   "source": [
    "# 주사위를 두 번 던져서 두 눈의 합이 10 이상이면 탈출하세요.\n",
    "while 1: \n",
    "    d1 = random.randint(1,6)\n",
    "    d2 = random.randint(1,6)\n",
    "    print(f'({d1}, {d2})', end = ' ') \n",
    "    if d1 + d2 >=10:\n",
    "        break"
   ]
  },
  {
   "cell_type": "markdown",
   "metadata": {},
   "source": [
    "- 반복문 응용"
   ]
  },
  {
   "cell_type": "code",
   "execution_count": 8,
   "metadata": {},
   "outputs": [
    {
     "name": "stdout",
     "output_type": "stream",
     "text": [
      "5050\n"
     ]
    }
   ],
   "source": [
    "# 1에서 100까지의 합   # 반복문의 아주 기본이 되는 코드 \n",
    "\n",
    "sum = 0                # 덧셈의 초기화 \n",
    "for i in range(1,101): # 문제는 100이지만 101로 바꿔주기 \n",
    "    sum +=i\n",
    "print(sum)    "
   ]
  },
  {
   "cell_type": "code",
   "execution_count": 9,
   "metadata": {},
   "outputs": [
    {
     "name": "stdout",
     "output_type": "stream",
     "text": [
      "3628800\n"
     ]
    }
   ],
   "source": [
    "# 1에서 10까지의 곱 \n",
    "\n",
    "product = 1            # 곱셈의 초기화 \n",
    "for i in range(1,11):\n",
    "    product *= i \n",
    "print(product)    "
   ]
  },
  {
   "cell_type": "markdown",
   "metadata": {},
   "source": [
    "- 1에서 10까지 루트값 계산하여 리스트로 만들기 \n"
   ]
  },
  {
   "cell_type": "code",
   "execution_count": 10,
   "metadata": {},
   "outputs": [
    {
     "data": {
      "text/plain": [
       "2.0"
      ]
     },
     "execution_count": 10,
     "metadata": {},
     "output_type": "execute_result"
    }
   ],
   "source": [
    "# 1에서 10까지 루트값 계산하여 리스트로 만들기 \n",
    "\n",
    "import math\n",
    "math.sqrt(4)\n",
    "\n",
    "# 이게 뭐야..? \n"
   ]
  },
  {
   "cell_type": "code",
   "execution_count": 11,
   "metadata": {},
   "outputs": [
    {
     "data": {
      "text/plain": [
       "[1.0,\n",
       " 1.4142135623730951,\n",
       " 1.7320508075688772,\n",
       " 2.0,\n",
       " 2.23606797749979,\n",
       " 2.449489742783178,\n",
       " 2.6457513110645907,\n",
       " 2.8284271247461903,\n",
       " 3.0,\n",
       " 3.1622776601683795]"
      ]
     },
     "execution_count": 11,
     "metadata": {},
     "output_type": "execute_result"
    }
   ],
   "source": [
    "# 1에서 10까지 루트값 계산하여 리스트로 만들기\n",
    "# sqrt_num = \n",
    "#append = 빈 루트에 채워넣겠다..? \n",
    "#round = 소수점 ~까지 잘라라..? \n",
    "# 11.18 3교시 30~35분경 re \n",
    "sqrt_num = []\n",
    "for i in range(1,11):\n",
    "    sqrt_num.append(math.sqrt(i))\n",
    "sqrt_num    "
   ]
  },
  {
   "cell_type": "code",
   "execution_count": null,
   "metadata": {},
   "outputs": [],
   "source": [
    "# 1에서 10까지 루트값 계산하여 리스트로 만들기\n",
    "# sqrt_num = \n",
    "#append = 빈 루트에 채워넣겠다..? \n",
    "#round = 소수점 ~까지만 보여주고 ~+1 에서 반올림 하라 \n",
    "# 11.18 3교시 30~35분경 re \n",
    "sqrt_num = []\n",
    "for i in range(1,11):\n",
    "    sqrt_num.append(round(math.sqrt(i),4) # 소숫점 4자리까지 보여주고 5에서 반올림 \n",
    "sqrt_num    "
   ]
  },
  {
   "cell_type": "code",
   "execution_count": 12,
   "metadata": {},
   "outputs": [
    {
     "name": "stdout",
     "output_type": "stream",
     "text": [
      "25 325\n"
     ]
    }
   ],
   "source": [
    "# for-loop, 1에서 얼마까지 더하면 누적합이 300을 초과하는지 \n",
    "sum = 0\n",
    "for i in range(300):\n",
    "    sum +=i\n",
    "    if sum > 300:\n",
    "        break\n",
    "print(i, sum)    "
   ]
  },
  {
   "cell_type": "markdown",
   "metadata": {},
   "source": [
    "- continue"
   ]
  },
  {
   "cell_type": "code",
   "execution_count": null,
   "metadata": {},
   "outputs": [],
   "source": []
  },
  {
   "cell_type": "code",
   "execution_count": null,
   "metadata": {},
   "outputs": [],
   "source": []
  }
 ],
 "metadata": {
  "interpreter": {
   "hash": "d990e0f5c79ab62bfe20220d5fc8769a25e3da57dce2813cc13c29871ddc1bfb"
  },
  "kernelspec": {
   "display_name": "Python 3.8.8 64-bit ('base': conda)",
   "language": "python",
   "name": "python3"
  },
  "language_info": {
   "codemirror_mode": {
    "name": "ipython",
    "version": 3
   },
   "file_extension": ".py",
   "mimetype": "text/x-python",
   "name": "python",
   "nbconvert_exporter": "python",
   "pygments_lexer": "ipython3",
   "version": "3.8.8"
  },
  "orig_nbformat": 4
 },
 "nbformat": 4,
 "nbformat_minor": 2
}
