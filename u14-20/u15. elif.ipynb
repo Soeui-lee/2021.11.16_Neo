{
 "cells": [
  {
   "cell_type": "markdown",
   "metadata": {},
   "source": [
    "# Unit 15. elif (else if)"
   ]
  },
  {
   "cell_type": "code",
   "execution_count": 1,
   "metadata": {},
   "outputs": [
    {
     "ename": "SyntaxError",
     "evalue": "invalid syntax (<ipython-input-1-2f9f9916d1e2>, line 2)",
     "output_type": "error",
     "traceback": [
      "\u001b[1;36m  File \u001b[1;32m\"<ipython-input-1-2f9f9916d1e2>\"\u001b[1;36m, line \u001b[1;32m2\u001b[0m\n\u001b[1;33m    else if _: #를 간단하게 elif: 로\u001b[0m\n\u001b[1;37m    ^\u001b[0m\n\u001b[1;31mSyntaxError\u001b[0m\u001b[1;31m:\u001b[0m invalid syntax\n"
     ]
    }
   ],
   "source": [
    "if _ :\n",
    "    else if _: #를 간단하게 elif: 로 \n",
    "\n",
    "if __:\n",
    "    elif __:\n",
    "    elif __:     \n",
    "    elif __: .......        "
   ]
  },
  {
   "cell_type": "code",
   "execution_count": 3,
   "metadata": {},
   "outputs": [],
   "source": [
    "# 90점 이상 A, 80이상 B, 70이상 C, 60이상 D, 아니면 F \n",
    "import random"
   ]
  },
  {
   "cell_type": "code",
   "execution_count": 14,
   "metadata": {},
   "outputs": [
    {
     "name": "stdout",
     "output_type": "stream",
     "text": [
      "88 B\n"
     ]
    }
   ],
   "source": [
    "score = random.randint(50,100)\n",
    "if score >= 90:\n",
    "    grade = 'A'\n",
    "elif score >=80:\n",
    "    grade = 'B'\n",
    "elif score >=70:\n",
    "    grade = 'C'\n",
    "elif score >=60:\n",
    "    grade = 'D'\n",
    "else:\n",
    "    grade = 'F'\n",
    "print(score,grade)\n",
    "\n",
    "\n"
   ]
  },
  {
   "cell_type": "code",
   "execution_count": 15,
   "metadata": {},
   "outputs": [
    {
     "name": "stdout",
     "output_type": "stream",
     "text": [
      "92 A\n"
     ]
    }
   ],
   "source": [
    "score = random.randint(50,100)\n",
    "grade = 'A' if score >= 90 else \\\n",
    "            'B' if score >= 80 else \\\n",
    "                'C' if score >= 70 else \\\n",
    "                    'D' if score >= 60 else 'F'\n",
    "print(score, grade)"
   ]
  },
  {
   "cell_type": "code",
   "execution_count": 25,
   "metadata": {},
   "outputs": [
    {
     "name": "stdout",
     "output_type": "stream",
     "text": [
      "61 D\n"
     ]
    }
   ],
   "source": [
    "# That means.... Possible \n",
    "# 3항 연산자 중요합니다..! \n",
    "score = random.randint(50,100)\n",
    "grade = 'A' if score >= 90 else \\\n",
    "            'B' if score >= 80 else \\\n",
    "                'C' if score >=70 else \\\n",
    "                    'D' if score >=60 else 'F'\n",
    "print(score, grade)   \n"
   ]
  },
  {
   "cell_type": "code",
   "execution_count": 21,
   "metadata": {},
   "outputs": [
    {
     "name": "stdout",
     "output_type": "stream",
     "text": [
      "79 good\n"
     ]
    }
   ],
   "source": [
    "# 3항 연산자가 이렇게도 쓰일 수 있음 \n",
    "# 백슬래쉬 안 치면 에러\n",
    "# else 다음에는 값이 나옴 ; 값 대신에 \\'good' if score >= 60 else 'poor' 넣는 것/ \n",
    "\n",
    "score = random.randint(50,100)\n",
    "grade = 'Excellent' if score >= 80 else \\\n",
    "             'good' if score >= 60 else 'poor'\n",
    "print(score, grade)             "
   ]
  },
  {
   "cell_type": "code",
   "execution_count": null,
   "metadata": {},
   "outputs": [],
   "source": []
  }
 ],
 "metadata": {
  "interpreter": {
   "hash": "d990e0f5c79ab62bfe20220d5fc8769a25e3da57dce2813cc13c29871ddc1bfb"
  },
  "kernelspec": {
   "display_name": "Python 3.8.8 64-bit ('base': conda)",
   "language": "python",
   "name": "python3"
  },
  "language_info": {
   "codemirror_mode": {
    "name": "ipython",
    "version": 3
   },
   "file_extension": ".py",
   "mimetype": "text/x-python",
   "name": "python",
   "nbconvert_exporter": "python",
   "pygments_lexer": "ipython3",
   "version": "3.8.8"
  },
  "orig_nbformat": 4
 },
 "nbformat": 4,
 "nbformat_minor": 2
}
