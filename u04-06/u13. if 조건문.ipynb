{
 "cells": [
  {
   "cell_type": "code",
   "execution_count": 1,
   "metadata": {},
   "outputs": [
    {
     "name": "stdout",
     "output_type": "stream",
     "text": [
      "10입니다.\n"
     ]
    }
   ],
   "source": [
    "x =10\n",
    "if x == 10:\n",
    "    print('10입니다.')\n",
    "\n",
    "    # :는 들여쓰기!! \n",
    "    # 불리언 식? "
   ]
  },
  {
   "cell_type": "code",
   "execution_count": null,
   "metadata": {},
   "outputs": [],
   "source": [
    "if x ==10:\n",
    "    print('10입니다.')\n",
    "    # 조건문을 만족할 때 해야 하는 건지.. 고민 (들여쓰기/indentation)\n",
    "    print('이곳은 조건이 참일 경우 실행되는 문장입니다.')\n",
    "print('이곳은 조건과 무관하게 실행되는 문장입니다.')\n",
    "\n",
    "# 조건이 끝나지 않았다/참이어야 한다? 들여쓰고 \n",
    "# 조건이 끝났다/ 무관하다... 백스텝 밟아서 앞으로 전진.. \n",
    "# 줄 맞추기 중요함 \n",
    "# 처음엔 4칸 띄어쓰세요 \n"
   ]
  },
  {
   "cell_type": "markdown",
   "metadata": {},
   "source": [
    "13.3 조건문 속 조건문 (중첩(nested)if)"
   ]
  },
  {
   "cell_type": "code",
   "execution_count": 5,
   "metadata": {},
   "outputs": [
    {
     "name": "stdout",
     "output_type": "stream",
     "text": [
      "10초과\n",
      "3의 배수\n",
      "5의 배수\n"
     ]
    }
   ],
   "source": [
    "x = 15\n",
    "if x > 10:\n",
    "    print('10초과')\n",
    "    if x % 3 == 0:   # x가 3의 배수냐\n",
    "        print('3의 배수')\n",
    "    if x % 5 == 0:    \n",
    "        print('5의 배수')"
   ]
  },
  {
   "cell_type": "code",
   "execution_count": 9,
   "metadata": {},
   "outputs": [],
   "source": [
    "x = 9\n",
    "if x > 10:\n",
    "    print('10초과')\n",
    "    if x % 3 == 0:   # x가 3의 배수냐\n",
    "        print('3의 배수')\n",
    "    if x % 5 == 0:    \n",
    "        print('5의 배수')\n",
    "\n",
    "        #아무 값도 나오지 않음 x를 12로도 바꿔보며 연습 "
   ]
  },
  {
   "cell_type": "code",
   "execution_count": 13,
   "metadata": {},
   "outputs": [
    {
     "name": "stdout",
     "output_type": "stream",
     "text": [
      "10초과\n"
     ]
    }
   ],
   "source": [
    "x = 25\n",
    "if x > 10:\n",
    "    print('10초과')\n",
    "    if x % 3 == 0:   # x가 3의 배수냐\n",
    "        print('3의 배수')\n",
    "        if x % 5 == 0:    \n",
    "            print('5의 배수')   # 드래그+쉬+탭 = 앞으로 / 탭 = 뒤로 "
   ]
  },
  {
   "cell_type": "code",
   "execution_count": 15,
   "metadata": {},
   "outputs": [
    {
     "name": "stdout",
     "output_type": "stream",
     "text": [
      "10초과\n",
      "3의 배수\n",
      "5의 배수\n"
     ]
    }
   ],
   "source": [
    "x = int(input('정수 입력'))\n",
    "if x > 10:\n",
    "    print('10초과')\n",
    "    if x % 3 == 0:   # x가 3의 배수냐\n",
    "        print('3의 배수')\n",
    "        if x % 5 == 0:    \n",
    "            print('5의 배수')"
   ]
  },
  {
   "cell_type": "code",
   "execution_count": 16,
   "metadata": {},
   "outputs": [
    {
     "name": "stdout",
     "output_type": "stream",
     "text": [
      "10초과\n",
      "x 값은 17입니다.\n"
     ]
    }
   ],
   "source": [
    "import random \n",
    "random.seed(2021)\n",
    "x = random. randint(5,20) # randint 양끝을 포함하는 ... \n",
    "if x > 10:\n",
    "    print('10초과')\n",
    "    if x % 3 == 0:   # x가 3의 배수냐\n",
    "        print('3의 배수')\n",
    "        if x % 5 == 0:    \n",
    "            print('5의 배수')\n",
    "print(f'x 값은 {x}입니다.')            "
   ]
  },
  {
   "cell_type": "code",
   "execution_count": 17,
   "metadata": {},
   "outputs": [
    {
     "data": {
      "text/plain": [
       "13"
      ]
     },
     "execution_count": 17,
     "metadata": {},
     "output_type": "execute_result"
    }
   ],
   "source": [
    "random.randint(5,20)"
   ]
  },
  {
   "cell_type": "code",
   "execution_count": null,
   "metadata": {},
   "outputs": [],
   "source": [
    "if x > 15:\n",
    "    pass  # 지금 당장X 앞으로 코드작성 할 것이라는 의미로 작성. \n",
    "          # 나중에 해야겠다~ 라는 의미 pass "
   ]
  }
 ],
 "metadata": {
  "interpreter": {
   "hash": "d990e0f5c79ab62bfe20220d5fc8769a25e3da57dce2813cc13c29871ddc1bfb"
  },
  "kernelspec": {
   "display_name": "Python 3.8.8 64-bit ('base': conda)",
   "language": "python",
   "name": "python3"
  },
  "language_info": {
   "codemirror_mode": {
    "name": "ipython",
    "version": 3
   },
   "file_extension": ".py",
   "mimetype": "text/x-python",
   "name": "python",
   "nbconvert_exporter": "python",
   "pygments_lexer": "ipython3",
   "version": "3.8.8"
  },
  "orig_nbformat": 4
 },
 "nbformat": 4,
 "nbformat_minor": 2
}
