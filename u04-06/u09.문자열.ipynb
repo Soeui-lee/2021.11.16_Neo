{
 "cells": [
  {
   "cell_type": "markdown",
   "metadata": {},
   "source": [
    "# Unit 9. 문자열 이용하기"
   ]
  },
  {
   "cell_type": "code",
   "execution_count": 4,
   "metadata": {},
   "outputs": [],
   "source": [
    "# '' / \" \" 사용 가능 \n",
    "# s1 = 'I'm a student.'      \n",
    "\n",
    "s2 = \"I'm student.\" \n",
    "\n",
    "s3 = 'I\\'m a student.'\n",
    "\n",
    "s4 = '''I'm a student'''"
   ]
  },
  {
   "cell_type": "code",
   "execution_count": 5,
   "metadata": {},
   "outputs": [
    {
     "name": "stdout",
     "output_type": "stream",
     "text": [
      "\n",
      "안녕하세요? \n",
      "저는 영희입니다. \n",
      "\n"
     ]
    }
   ],
   "source": [
    "s5 = '''\n",
    "안녕하세요? \n",
    "저는 영희입니다. \n",
    "'''\n",
    "print(s5)\n",
    "\n",
    "# s5 - ..\\n안녕하세요\\n저는 영희입니다.\\n   #해결:print(s5) "
   ]
  },
  {
   "cell_type": "code",
   "execution_count": 6,
   "metadata": {},
   "outputs": [
    {
     "data": {
      "text/plain": [
       "'철수영희'"
      ]
     },
     "execution_count": 6,
     "metadata": {},
     "output_type": "execute_result"
    }
   ],
   "source": [
    "'철수' + '영희' "
   ]
  },
  {
   "cell_type": "code",
   "execution_count": 7,
   "metadata": {},
   "outputs": [
    {
     "name": "stdout",
     "output_type": "stream",
     "text": [
      "철수와 영희는 제주도에 삽니다.\n"
     ]
    }
   ],
   "source": [
    "# 내가 만들고 싶은 string- 철수와 영희는 제주도에 삽니다.\n",
    "name1, name2 = '철수', '영희'\n",
    "res = name1 + '와 ' + name2 + '는 제주도에 삽니다.' \n",
    "print(res)\n",
    "\n",
    "# '와' = 철수와영희는 / '와 ' = 철수와 영희는"
   ]
  },
  {
   "cell_type": "code",
   "execution_count": 8,
   "metadata": {},
   "outputs": [
    {
     "name": "stdout",
     "output_type": "stream",
     "text": [
      "철수와 영희는 제주도에 삽니다.\n"
     ]
    }
   ],
   "source": [
    "# python 3.6부터 f-string 사용 가능 \n",
    "res2 = f'{name1}와 {name2}는 제주도에 삽니다.'\n",
    "print(res2)"
   ]
  },
  {
   "cell_type": "code",
   "execution_count": 9,
   "metadata": {},
   "outputs": [],
   "source": [
    "# unit 24에서 본격적으로 문자열 조작"
   ]
  }
 ],
 "metadata": {
  "interpreter": {
   "hash": "d990e0f5c79ab62bfe20220d5fc8769a25e3da57dce2813cc13c29871ddc1bfb"
  },
  "kernelspec": {
   "display_name": "Python 3.8.8 64-bit ('base': conda)",
   "language": "python",
   "name": "python3"
  },
  "language_info": {
   "codemirror_mode": {
    "name": "ipython",
    "version": 3
   },
   "file_extension": ".py",
   "mimetype": "text/x-python",
   "name": "python",
   "nbconvert_exporter": "python",
   "pygments_lexer": "ipython3",
   "version": "3.8.8"
  },
  "orig_nbformat": 4
 },
 "nbformat": 4,
 "nbformat_minor": 2
}
