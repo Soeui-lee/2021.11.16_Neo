{
 "cells": [
  {
   "cell_type": "markdown",
   "metadata": {},
   "source": [
    "# Unit 8. Bool과 비교, 논리 연산자 "
   ]
  },
  {
   "cell_type": "code",
   "execution_count": 1,
   "metadata": {},
   "outputs": [
    {
     "data": {
      "text/plain": [
       "(True, False)"
      ]
     },
     "execution_count": 1,
     "metadata": {},
     "output_type": "execute_result"
    }
   ],
   "source": [
    "# Bool\n",
    "True, False"
   ]
  },
  {
   "cell_type": "code",
   "execution_count": 2,
   "metadata": {},
   "outputs": [
    {
     "data": {
      "text/plain": [
       "(True, True, False)"
      ]
     },
     "execution_count": 2,
     "metadata": {},
     "output_type": "execute_result"
    }
   ],
   "source": [
    "# 비교 연산자  \n",
    "3 > 1, 2 < 5, 3 == 4\n",
    "# 등호는 == / 할당은 = "
   ]
  },
  {
   "cell_type": "code",
   "execution_count": null,
   "metadata": {},
   "outputs": [],
   "source": []
  },
  {
   "cell_type": "code",
   "execution_count": 3,
   "metadata": {},
   "outputs": [
    {
     "data": {
      "text/plain": [
       "(True, True, True)"
      ]
     },
     "execution_count": 3,
     "metadata": {},
     "output_type": "execute_result"
    }
   ],
   "source": [
    "3 >= (2 + 1), 2 <= 4/2, 3 != 4 \n",
    "# != - not equal \n",
    "# 폰트 따라(메모장 서식 글꼴) 달라지는데 '리가츄어'(?) 설명함"
   ]
  },
  {
   "cell_type": "code",
   "execution_count": 5,
   "metadata": {},
   "outputs": [
    {
     "data": {
      "text/plain": [
       "False"
      ]
     },
     "execution_count": 5,
     "metadata": {},
     "output_type": "execute_result"
    }
   ],
   "source": [
    "'Python' == 'python'\n",
    "# 문자가 같은지 확인도 가능"
   ]
  },
  {
   "cell_type": "code",
   "execution_count": 6,
   "metadata": {},
   "outputs": [
    {
     "name": "stderr",
     "output_type": "stream",
     "text": [
      "<>:1: SyntaxWarning: \"is\" with a literal. Did you mean \"==\"?\n",
      "<>:1: SyntaxWarning: \"is\" with a literal. Did you mean \"==\"?\n",
      "<ipython-input-6-f0dee20a6759>:1: SyntaxWarning: \"is\" with a literal. Did you mean \"==\"?\n",
      "  'Python' == 'python', 1 == 1.0, 1 is 1.0\n"
     ]
    },
    {
     "data": {
      "text/plain": [
       "(False, True, False)"
      ]
     },
     "execution_count": 6,
     "metadata": {},
     "output_type": "execute_result"
    }
   ],
   "source": [
    "'Python' == 'python', 1 == 1.0, 1 is 1.0\n",
    "# 대소문자 구분하므로\n",
    "# 파이썬에서는 1 == 1.0 (타 언어는 false)\n",
    "# 데이터 타입이 같은지를 비교하라고 (int 와 실수라서 is는 false)"
   ]
  },
  {
   "cell_type": "code",
   "execution_count": null,
   "metadata": {},
   "outputs": [],
   "source": [
    "# 논리 연산자 (and, or, not)\n",
    "# not이 항상 순서가 우선함. ex) not True and \n",
    "# 우선순위 두고 싶은 곳에 ( )사용해도 됨 \n",
    "\n",
    "# 산술-비교-논리 연산자 순서로 우선\n",
    "# 7 - 4 > 3 and 5 < 2 \n",
    "# 7-4 가 당연히 우선 이고 그 다음이 > .. 이런 식 \n",
    "# 47.2 연산자 우선순위 O "
   ]
  },
  {
   "cell_type": "code",
   "execution_count": 7,
   "metadata": {},
   "outputs": [
    {
     "data": {
      "text/plain": [
       "(False, False, True, True, True)"
      ]
     },
     "execution_count": 7,
     "metadata": {},
     "output_type": "execute_result"
    }
   ],
   "source": [
    "# 문자, 숫자의 논리값\n",
    "# 0인 경우만 false, 나머지는 true로 해석 \n",
    "# if문에 숫자가 나오는 경우 왕왕// 그 때 사용 \n",
    "bool(0), bool(0.0), bool(1), bool(2.3), bool(-5)"
   ]
  },
  {
   "cell_type": "code",
   "execution_count": 10,
   "metadata": {},
   "outputs": [
    {
     "data": {
      "text/plain": [
       "(False, False, True, True)"
      ]
     },
     "execution_count": 10,
     "metadata": {},
     "output_type": "execute_result"
    }
   ],
   "source": [
    "bool(''), bool(None), bool(' '), bool('I')\n",
    "# 빈 문자열 ''/\"\"/None 제외한 모든 문자열 True\n",
    "# 많이 나오니까 기억하기! "
   ]
  },
  {
   "cell_type": "code",
   "execution_count": null,
   "metadata": {},
   "outputs": [],
   "source": []
  }
 ],
 "metadata": {
  "interpreter": {
   "hash": "d990e0f5c79ab62bfe20220d5fc8769a25e3da57dce2813cc13c29871ddc1bfb"
  },
  "kernelspec": {
   "display_name": "Python 3.8.8 64-bit ('base': conda)",
   "language": "python",
   "name": "python3"
  },
  "language_info": {
   "codemirror_mode": {
    "name": "ipython",
    "version": 3
   },
   "file_extension": ".py",
   "mimetype": "text/x-python",
   "name": "python",
   "nbconvert_exporter": "python",
   "pygments_lexer": "ipython3",
   "version": "3.8.8"
  },
  "orig_nbformat": 4
 },
 "nbformat": 4,
 "nbformat_minor": 2
}
