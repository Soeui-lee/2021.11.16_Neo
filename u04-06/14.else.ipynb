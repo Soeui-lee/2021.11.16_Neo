{
 "cells": [
  {
   "cell_type": "markdown",
   "metadata": {},
   "source": [
    "# Unit 14. Else"
   ]
  },
  {
   "cell_type": "code",
   "execution_count": 2,
   "metadata": {},
   "outputs": [
    {
     "name": "stdout",
     "output_type": "stream",
     "text": [
      "10 이하\n"
     ]
    }
   ],
   "source": [
    "x = 5\n",
    "if x > 10:\n",
    "    print('10 초과')\n",
    "else:\n",
    "    print('10 이하')    "
   ]
  },
  {
   "cell_type": "code",
   "execution_count": 3,
   "metadata": {},
   "outputs": [
    {
     "name": "stdout",
     "output_type": "stream",
     "text": [
      "29는 홀수\n"
     ]
    }
   ],
   "source": [
    "# seed 안 해서 선생님과 동일하게는 안 나옴 \n",
    "import random\n",
    "x = random.randint(1,100)\n",
    "if x % 2 == 0:\n",
    "    print(f'{x}는 짝수')\n",
    "else: \n",
    "    print(f'{x}는 홀수')    "
   ]
  },
  {
   "cell_type": "code",
   "execution_count": 5,
   "metadata": {},
   "outputs": [
    {
     "name": "stdout",
     "output_type": "stream",
     "text": [
      "65는 홀수\n"
     ]
    }
   ],
   "source": [
    "# 한 줄 드래그 + 컨 + 쉬+ K = 삭제 \n",
    "\n",
    "x = random.randint(1,100)\n",
    "if x % 2 == 0:\n",
    "    result = '짝수'\n",
    "else: \n",
    "    result = '홀수'\n",
    "print(f'{x}는 {result}')    "
   ]
  },
  {
   "cell_type": "code",
   "execution_count": 6,
   "metadata": {},
   "outputs": [
    {
     "name": "stdout",
     "output_type": "stream",
     "text": [
      "18는 짝수\n"
     ]
    }
   ],
   "source": [
    "# 3항 연산자 \n",
    "# 자바에서는 result = (x % 2 == 0) ? '짝수' : '홀수'\n",
    "\n",
    "# 바로 위랑 같은 식이라는데... (?)\n",
    "# (위는)너무 뻔하기 때문에~ 이런 식으로 많이 쓰는 거에요 \n",
    "\n",
    "x = random.randint(1,100)\n",
    "result = '짝수' if x % 2 == 0 else '홀수'\n",
    "print(f'{x}는 {result}')    \n",
    "\n"
   ]
  },
  {
   "cell_type": "code",
   "execution_count": null,
   "metadata": {},
   "outputs": [],
   "source": []
  },
  {
   "cell_type": "code",
   "execution_count": null,
   "metadata": {},
   "outputs": [],
   "source": [
    "# 데이터 내용? None .. 변수의 내용이 설정되지 않은 거임 \n",
    "\n"
   ]
  }
 ],
 "metadata": {
  "interpreter": {
   "hash": "d990e0f5c79ab62bfe20220d5fc8769a25e3da57dce2813cc13c29871ddc1bfb"
  },
  "kernelspec": {
   "display_name": "Python 3.8.8 64-bit ('base': conda)",
   "language": "python",
   "name": "python3"
  },
  "language_info": {
   "codemirror_mode": {
    "name": "ipython",
    "version": 3
   },
   "file_extension": ".py",
   "mimetype": "text/x-python",
   "name": "python",
   "nbconvert_exporter": "python",
   "pygments_lexer": "ipython3",
   "version": "3.8.8"
  },
  "orig_nbformat": 4
 },
 "nbformat": 4,
 "nbformat_minor": 2
}
