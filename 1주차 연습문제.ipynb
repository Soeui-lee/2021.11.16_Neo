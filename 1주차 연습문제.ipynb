{
 "cells": [
  {
   "cell_type": "markdown",
   "metadata": {},
   "source": [
    "-연도를 입력으로 받아 윤년인지 아닌지를 출력하는 프로그램을 작성하시오.\n",
    "윤년은 연도가 4의 배수이면서, 100의 배수가 아닐 때 또는 400의 배수일 때이다.\n",
    "예를들어, 2012년은 4의 배수라서 윤년이지만, 1900년은 4의 배수이지만, 100의 배수이기 때문에\n",
    "윤년이 아니다. 하지만, 2000년은 400의 배수이기 때문에 윤년이다.)"
   ]
  },
  {
   "cell_type": "code",
   "execution_count": 3,
   "metadata": {},
   "outputs": [
    {
     "name": "stdout",
     "output_type": "stream",
     "text": [
      "1900: 윤년이 아님\n"
     ]
    }
   ],
   "source": [
    "year = int(input())\n",
    "if year % 400 ==0:\n",
    "    print(f'{year}: 윤년')\n",
    "elif year % 100 ==0:\n",
    "    print(f'{year}: 윤년이 아님')\n",
    "elif year % 4 ==0:\n",
    "    print(f'{year}: 윤년')\n",
    "else:\n",
    "    print(f'{year}: 윤년이 아님')\n",
    "\n"
   ]
  },
  {
   "cell_type": "code",
   "execution_count": null,
   "metadata": {},
   "outputs": [],
   "source": [
    "# 조건이 제일 작은/좁은 것부터 .... 400 "
   ]
  },
  {
   "cell_type": "code",
   "execution_count": null,
   "metadata": {},
   "outputs": [],
   "source": []
  },
  {
   "cell_type": "markdown",
   "metadata": {},
   "source": [
    "-본인의 생일을 1998 12 15 과 같이 년 월 일로 입력받아\n",
    "오늘 날짜의 만 나이를 구하는 프로그램을 작성하시오."
   ]
  },
  {
   "cell_type": "code",
   "execution_count": 7,
   "metadata": {},
   "outputs": [
    {
     "data": {
      "text/plain": [
       "datetime.date(2021, 11, 22)"
      ]
     },
     "execution_count": 7,
     "metadata": {},
     "output_type": "execute_result"
    }
   ],
   "source": [
    "from datetime import date   #datetime 모듈 \n",
    "today = date.today()\n",
    "today\n",
    "\n",
    "#(today.year,today.month,today.day) 로 나옴"
   ]
  },
  {
   "cell_type": "code",
   "execution_count": 8,
   "metadata": {},
   "outputs": [
    {
     "data": {
      "text/plain": [
       "(2000, 6, 12)"
      ]
     },
     "execution_count": 8,
     "metadata": {},
     "output_type": "execute_result"
    }
   ],
   "source": [
    "year, month, day = map(int, input().split())\n",
    "year, month, day"
   ]
  },
  {
   "cell_type": "code",
   "execution_count": 11,
   "metadata": {},
   "outputs": [
    {
     "name": "stdout",
     "output_type": "stream",
     "text": [
      "생년월일이 2000-6-12인 사람의 만 나이는 21\n"
     ]
    }
   ],
   "source": [
    "if month > today.month:\n",
    "    age = today.year-year-1\n",
    "elif month < today.month:\n",
    "    age = today.year-year\n",
    "else:  # 월이 같을 때 \n",
    "    if day > today.day:\n",
    "        age = today.year-year-1\n",
    "    else:\n",
    "        age= today.year-year \n",
    "print(f'생년월일이 {year}-{month}-{day}인 사람의 만 나이는 {age}')"
   ]
  },
  {
   "cell_type": "code",
   "execution_count": null,
   "metadata": {},
   "outputs": [],
   "source": []
  },
  {
   "cell_type": "code",
   "execution_count": null,
   "metadata": {},
   "outputs": [],
   "source": []
  },
  {
   "cell_type": "markdown",
   "metadata": {},
   "source": [
    "-세 자연수 a, b, c 가 피타고라스 정리 a\n",
    "\n",
    "2 + b2 = c2 를 만족하면 피타고라스 수라고 부른다.\n",
    "\n",
    "(여기서 a < b < c 이고 a + b > c)\n",
    "예를 들면, 32 + 42 = 9 + 16 = 25 = 52 이므로 3, 4, 5는 피타고라스 수입니다.\n",
    "\n",
    "a + b + c = 1000 인 피타고라스 수를 구하시오. (답은 한가지 뿐이다.)"
   ]
  },
  {
   "cell_type": "code",
   "execution_count": null,
   "metadata": {},
   "outputs": [],
   "source": [
    "# 부정방정식으로 풀이(모든 경우의 수 대입)\n",
    "# 삼각형 ** 가장 큰 변의 길이 < 나머지 두 변의 길이 합 (기억!!! )"
   ]
  },
  {
   "cell_type": "code",
   "execution_count": 14,
   "metadata": {},
   "outputs": [
    {
     "name": "stdout",
     "output_type": "stream",
     "text": [
      "200 375 425\n"
     ]
    }
   ],
   "source": [
    "for a in range(1,1001):\n",
    "    for b in range(a+1,1001):\n",
    "        c = 1000-a-b\n",
    "        if c*c == a*a + b*b:\n",
    "            print(a,b,c)\n",
    "            break # 답이 하나라고 했으니 한번 돌리고 빠져나오기 #두번째 for만 빠져나옴(so 큰 의미 없다고)\n"
   ]
  },
  {
   "cell_type": "code",
   "execution_count": 15,
   "metadata": {},
   "outputs": [
    {
     "name": "stdout",
     "output_type": "stream",
     "text": [
      "200 375 425\n"
     ]
    }
   ],
   "source": [
    "for a in range(1,333):  # 이게 움직일 수 있는 a/b/c - 333/334/335 (?)\n",
    "    for b in range(a+1,500):  # 범위라고 \n",
    "        c = 1000-a-b\n",
    "        if c*c == a*a + b*b:\n",
    "            print(a,b,c)\n",
    "            break"
   ]
  },
  {
   "cell_type": "code",
   "execution_count": null,
   "metadata": {},
   "outputs": [],
   "source": [
    "flah = False\n",
    "for a in range(1,333):  # 이게 움직일 수 있는\n",
    "    for b in range(a+1,500):  # 범위라고 \n",
    "        c = 1000-a-b\n",
    "        if c*c == a*a + b*b:\n",
    "            print(a,b,c)\n",
    "            flag = True\n",
    "            break\n",
    "    if flag:\n",
    "        break  # 다시 듣기 (11.22 (1)~25분경 )"
   ]
  }
 ],
 "metadata": {
  "interpreter": {
   "hash": "d990e0f5c79ab62bfe20220d5fc8769a25e3da57dce2813cc13c29871ddc1bfb"
  },
  "kernelspec": {
   "display_name": "Python 3.8.8 64-bit ('base': conda)",
   "language": "python",
   "name": "python3"
  },
  "language_info": {
   "codemirror_mode": {
    "name": "ipython",
    "version": 3
   },
   "file_extension": ".py",
   "mimetype": "text/x-python",
   "name": "python",
   "nbconvert_exporter": "python",
   "pygments_lexer": "ipython3",
   "version": "3.8.8"
  },
  "orig_nbformat": 4
 },
 "nbformat": 4,
 "nbformat_minor": 2
}
