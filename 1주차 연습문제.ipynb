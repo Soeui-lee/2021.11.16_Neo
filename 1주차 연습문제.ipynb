{
 "cells": [
  {
   "cell_type": "markdown",
   "metadata": {},
   "source": [
    "-연도를 입력으로 받아 윤년인지 아닌지를 출력하는 프로그램을 작성하시오.\n",
    "윤년은 연도가 4의 배수이면서, 100의 배수가 아닐 때 또는 400의 배수일 때이다.\n",
    "예를들어, 2012년은 4의 배수라서 윤년이지만, 1900년은 4의 배수이지만, 100의 배수이기 때문에\n",
    "윤년이 아니다. 하지만, 2000년은 400의 배수이기 때문에 윤년이다.)"
   ]
  },
  {
   "cell_type": "code",
   "execution_count": 3,
   "metadata": {},
   "outputs": [
    {
     "name": "stdout",
     "output_type": "stream",
     "text": [
      "1900: 윤년이 아님\n"
     ]
    }
   ],
   "source": [
    "year = int(input())\n",
    "if year % 400 ==0:\n",
    "    print(f'{year}: 윤년')\n",
    "elif year % 100 ==0:\n",
    "    print(f'{year}: 윤년이 아님')\n",
    "elif year % 4 ==0:\n",
    "    print(f'{year}: 윤년')\n",
    "else:\n",
    "    print(f'{year}: 윤년이 아님')\n",
    "\n"
   ]
  },
  {
   "cell_type": "code",
   "execution_count": null,
   "metadata": {},
   "outputs": [],
   "source": [
    "# 조건이 제일 작은/좁은 것부터 .... 400 "
   ]
  },
  {
   "cell_type": "code",
   "execution_count": null,
   "metadata": {},
   "outputs": [],
   "source": []
  },
  {
   "cell_type": "markdown",
   "metadata": {},
   "source": [
    "-본인의 생일을 1998 12 15 과 같이 년 월 일로 입력받아\n",
    "오늘 날짜의 만 나이를 구하는 프로그램을 작성하시오."
   ]
  },
  {
   "cell_type": "code",
   "execution_count": 7,
   "metadata": {},
   "outputs": [
    {
     "data": {
      "text/plain": [
       "datetime.date(2021, 11, 22)"
      ]
     },
     "execution_count": 7,
     "metadata": {},
     "output_type": "execute_result"
    }
   ],
   "source": [
    "from datetime import date   #datetime 모듈 \n",
    "today = date.today()\n",
    "today\n",
    "\n",
    "#(today.year,today.month,today.day) 로 나옴"
   ]
  },
  {
   "cell_type": "code",
   "execution_count": 8,
   "metadata": {},
   "outputs": [
    {
     "data": {
      "text/plain": [
       "(2000, 6, 12)"
      ]
     },
     "execution_count": 8,
     "metadata": {},
     "output_type": "execute_result"
    }
   ],
   "source": [
    "year, month, day = map(int, input().split())\n",
    "year, month, day"
   ]
  },
  {
   "cell_type": "code",
   "execution_count": 11,
   "metadata": {},
   "outputs": [
    {
     "name": "stdout",
     "output_type": "stream",
     "text": [
      "생년월일이 2000-6-12인 사람의 만 나이는 21\n"
     ]
    }
   ],
   "source": [
    "if month > today.month:\n",
    "    age = today.year-year-1\n",
    "elif month < today.month:\n",
    "    age = today.year-year\n",
    "else:  # 월이 같을 때 \n",
    "    if day > today.day:\n",
    "        age = today.year-year-1\n",
    "    else:\n",
    "        age= today.year-year \n",
    "print(f'생년월일이 {year}-{month}-{day}인 사람의 만 나이는 {age}')"
   ]
  },
  {
   "cell_type": "code",
   "execution_count": null,
   "metadata": {},
   "outputs": [],
   "source": []
  },
  {
   "cell_type": "code",
   "execution_count": null,
   "metadata": {},
   "outputs": [],
   "source": []
  },
  {
   "cell_type": "markdown",
   "metadata": {},
   "source": [
    "-세 자연수 a, b, c 가 피타고라스 정리 a\n",
    "\n",
    "2 + b2 = c2 를 만족하면 피타고라스 수라고 부른다.\n",
    "\n",
    "(여기서 a < b < c 이고 a + b > c)\n",
    "예를 들면, 32 + 42 = 9 + 16 = 25 = 52 이므로 3, 4, 5는 피타고라스 수입니다.\n",
    "\n",
    "a + b + c = 1000 인 피타고라스 수를 구하시오. (답은 한가지 뿐이다.)"
   ]
  },
  {
   "cell_type": "code",
   "execution_count": null,
   "metadata": {},
   "outputs": [],
   "source": [
    "# 부정방정식으로 풀이(모든 경우의 수 대입)\n",
    "# 삼각형 ** 가장 큰 변의 길이 < 나머지 두 변의 길이 합 (기억!!! )"
   ]
  },
  {
   "cell_type": "code",
   "execution_count": 14,
   "metadata": {},
   "outputs": [
    {
     "name": "stdout",
     "output_type": "stream",
     "text": [
      "200 375 425\n"
     ]
    }
   ],
   "source": [
    "for a in range(1,1001):\n",
    "    for b in range(a+1,1001):\n",
    "        c = 1000-a-b\n",
    "        if c*c == a*a + b*b:\n",
    "            print(a,b,c)\n",
    "            break # 답이 하나라고 했으니 한번 돌리고 빠져나오기 #두번째 for만 빠져나옴(so 큰 의미 없다고)\n"
   ]
  },
  {
   "cell_type": "code",
   "execution_count": 15,
   "metadata": {},
   "outputs": [
    {
     "name": "stdout",
     "output_type": "stream",
     "text": [
      "200 375 425\n"
     ]
    }
   ],
   "source": [
    "for a in range(1,333):  # 이게 움직일 수 있는 a/b/c - 333/334/335 (?)\n",
    "    for b in range(a+1,500):  # 범위라고 \n",
    "        c = 1000-a-b\n",
    "        if c*c == a*a + b*b:\n",
    "            print(a,b,c)\n",
    "            break"
   ]
  },
  {
   "cell_type": "code",
   "execution_count": null,
   "metadata": {},
   "outputs": [],
   "source": [
    "flah = False\n",
    "for a in range(1,333):  # 이게 움직일 수 있는\n",
    "    for b in range(a+1,500):  # 범위라고 \n",
    "        c = 1000-a-b\n",
    "        if c*c == a*a + b*b:\n",
    "            print(a,b,c)\n",
    "            flag = True\n",
    "            break\n",
    "    if flag:\n",
    "        break  # 다시 듣기 (11.22 (1)~25분경 )"
   ]
  },
  {
   "cell_type": "markdown",
   "metadata": {},
   "source": [
    "u 24-5 연습문제"
   ]
  },
  {
   "cell_type": "code",
   "execution_count": null,
   "metadata": {},
   "outputs": [],
   "source": [
    "text_list = text/split()\n",
    "count_the = 0\n",
    "for word in text_list:\n",
    "    word.strip(\"',.\").lower()\n",
    "    if word == 'the':\n",
    "        count_the += 1\n",
    "print(count_the)\n",
    "\n",
    "# 6나와야 함 "
   ]
  },
  {
   "cell_type": "markdown",
   "metadata": {},
   "source": [
    "24-6 심사문제 \n"
   ]
  },
  {
   "cell_type": "markdown",
   "metadata": {},
   "source": [
    "- 표준 입력으로 물품 가격 여러 개가 문자열 한 줄로 입력되고, 각 가격은 ;(세미콜론)으로 구분되어 있습니다. \n",
    "- 입력된 가격을 높은 가격순으로 출력하는 프로그램을 만드세요(input에서 안내 문자열은 출력하지 않아야 합니다). \n",
    "- 이때 가격은 길이를 9로 만든 뒤 오른쪽으로 정렬하고 천단위로 ,(콤마)를 넣으세요."
   ]
  },
  {
   "cell_type": "markdown",
   "metadata": {},
   "source": [
    "- 적기 바빠서 틀린 것 있을지도 모르고 / 답도 못 냈음 "
   ]
  },
  {
   "cell_type": "code",
   "execution_count": 1,
   "metadata": {},
   "outputs": [
    {
     "data": {
      "text/plain": [
       "<bound method Kernel.raw_input of <ipykernel.ipkernel.IPythonKernel object at 0x000001F17EDBB910>>"
      ]
     },
     "execution_count": 1,
     "metadata": {},
     "output_type": "execute_result"
    }
   ],
   "source": [
    "input"
   ]
  },
  {
   "cell_type": "code",
   "execution_count": 2,
   "metadata": {},
   "outputs": [
    {
     "data": {
      "text/plain": [
       "<function print>"
      ]
     },
     "execution_count": 2,
     "metadata": {},
     "output_type": "execute_result"
    }
   ],
   "source": [
    "input_str = '51900;83000;158000;367500;250000;59200;128500;1304000'\n",
    "price_list = list(map(int, input_str.split(';')))\n",
    "print"
   ]
  },
  {
   "cell_type": "code",
   "execution_count": null,
   "metadata": {},
   "outputs": [],
   "source": [
    "price_list.sort(reverse=True)\n",
    "price_list"
   ]
  },
  {
   "cell_type": "code",
   "execution_count": null,
   "metadata": {},
   "outputs": [],
   "source": [
    "for price in price_list:\n",
    "    print(f'{price:9,d}')"
   ]
  },
  {
   "cell_type": "markdown",
   "metadata": {},
   "source": [
    "u 25 "
   ]
  },
  {
   "cell_type": "markdown",
   "metadata": {},
   "source": [
    "- 표준 입력으로 문자열 여러 개와 숫자 여러 개가 두 줄로 입력되고, 첫 번째 줄은 키, 두 번째 줄은 값으로 하여 딕셔너리를 생성합니다. \n",
    "- 다음 코드를 완성하여 딕셔너리에서 키가 'delta'인 키-값 쌍과 값이 30인 키-값 쌍을 삭제하도록 만드세요."
   ]
  },
  {
   "cell_type": "code",
   "execution_count": 5,
   "metadata": {},
   "outputs": [
    {
     "data": {
      "text/plain": [
       "{'alpha': 10, 'bravo': 20, 'charlie': 30, 'delta': 40}"
      ]
     },
     "execution_count": 5,
     "metadata": {},
     "output_type": "execute_result"
    }
   ],
   "source": [
    "# alpha bravo charlie delta\n",
    "# 10 20 30 40\n",
    "keys = input().split()\n",
    "values = list(map(int, input().split()))\n",
    "x = dict(zip(keys, values))\n",
    "x"
   ]
  },
  {
   "cell_type": "code",
   "execution_count": 6,
   "metadata": {},
   "outputs": [
    {
     "ename": "KeyError",
     "evalue": "'dleta'",
     "output_type": "error",
     "traceback": [
      "\u001b[1;31m---------------------------------------------------------------------------\u001b[0m",
      "\u001b[1;31mKeyError\u001b[0m                                  Traceback (most recent call last)",
      "\u001b[1;32m<ipython-input-6-a94f1be50d95>\u001b[0m in \u001b[0;36m<module>\u001b[1;34m\u001b[0m\n\u001b[1;32m----> 1\u001b[1;33m \u001b[1;32mdel\u001b[0m \u001b[0mx\u001b[0m\u001b[1;33m[\u001b[0m\u001b[1;34m'dleta'\u001b[0m\u001b[1;33m]\u001b[0m\u001b[1;33m\u001b[0m\u001b[1;33m\u001b[0m\u001b[0m\n\u001b[0m\u001b[0;32m      2\u001b[0m \u001b[0mx\u001b[0m\u001b[1;33m\u001b[0m\u001b[1;33m\u001b[0m\u001b[0m\n",
      "\u001b[1;31mKeyError\u001b[0m: 'dleta'"
     ]
    }
   ],
   "source": [
    "del x['dleta']\n",
    "x\n",
    "\n",
    "# 답이 알파 : 10, 브라보 : 20, 찰리 :30"
   ]
  },
  {
   "cell_type": "code",
   "execution_count": 7,
   "metadata": {},
   "outputs": [
    {
     "data": {
      "text/plain": [
       "{'alpha': 10, 'bravo': 20, 'delta': 40}"
      ]
     },
     "execution_count": 7,
     "metadata": {},
     "output_type": "execute_result"
    }
   ],
   "source": [
    "for key, value in x.items():\n",
    "    if value == 30:\n",
    "        break\n",
    "x.pop(key)          # del x[key]\n",
    "x\n",
    "\n",
    "# 답이 알파 10 브라보 20 "
   ]
  },
  {
   "cell_type": "code",
   "execution_count": null,
   "metadata": {},
   "outputs": [],
   "source": []
  },
  {
   "cell_type": "markdown",
   "metadata": {},
   "source": [
    "- 별 그리기 \n",
    "- 5 이상 9 이하의 홀수를 입력받아 다이아몬드 형태의 별을 출력하는 프로그램 작성하ㅣㅅ오"
   ]
  },
  {
   "cell_type": "markdown",
   "metadata": {},
   "source": [
    "n = int(input())\n"
   ]
  },
  {
   "cell_type": "code",
   "execution_count": 5,
   "metadata": {},
   "outputs": [
    {
     "name": "stdout",
     "output_type": "stream",
     "text": [
      "    *    \n",
      "   ***   \n",
      "  *****  \n",
      " ******* \n",
      "*********\n",
      " ******* \n",
      "  *****  \n",
      "   ***   \n",
      "    *    \n"
     ]
    }
   ],
   "source": [
    "n = int(input())\n",
    "for i in range(n):\n",
    "    if i <= n// 2:\n",
    "        star = '*' * (2*i + 1)\n",
    "    else:\n",
    "        star = '*' * (2 * (n-i) - 1)\n",
    "    print(f'{star:^{n}s}')"
   ]
  },
  {
   "cell_type": "code",
   "execution_count": 7,
   "metadata": {},
   "outputs": [
    {
     "name": "stdout",
     "output_type": "stream",
     "text": [
      "   *\n",
      "  ***\n",
      " *****\n",
      "*******\n",
      " *****\n",
      "  ***\n",
      "   *\n"
     ]
    }
   ],
   "source": [
    "for i in range(4):\n",
    "    for k in range(3-i):\n",
    "        print(' ', end='')\n",
    "    for k in range(2*i + 1):\n",
    "        print('*', end ='')\n",
    "    print()\n",
    "for i in range(2,-1,-1): \n",
    "    for k in range(3-i):\n",
    "        print(' ', end='')\n",
    "    for k in range(2*i +1):\n",
    "        print('*', end='')\n",
    "    print()"
   ]
  },
  {
   "cell_type": "markdown",
   "metadata": {},
   "source": [
    "- 디지털 시계 \n",
    "- 디지털 시계에 하루동안(00:00~23:59) 3이 표시되는 시간을 초로 환산하면 총 몇 초일까요?"
   ]
  },
  {
   "cell_type": "code",
   "execution_count": null,
   "metadata": {},
   "outputs": [],
   "source": [
    "# 시 - 0 3 13 23 (60분씩 3번)\n",
    "# 분 - 0 3 13 23 33 43 53 (15분씩 21번?)\n",
    "# 디지털이니까 초는 없고 "
   ]
  },
  {
   "cell_type": "code",
   "execution_count": 9,
   "metadata": {},
   "outputs": [
    {
     "name": "stdout",
     "output_type": "stream",
     "text": [
      "23:59\n"
     ]
    }
   ],
   "source": [
    "for hour in range(24):\n",
    "    for minute in range(60):\n",
    "        display = f'{hour:02d}:{minute:02d}'\n",
    "print(display)"
   ]
  },
  {
   "cell_type": "code",
   "execution_count": 10,
   "metadata": {},
   "outputs": [
    {
     "name": "stdout",
     "output_type": "stream",
     "text": [
      "29700\n"
     ]
    }
   ],
   "source": [
    "total_second = 0\n",
    "for hour in range(24):\n",
    "    for minute in range(60):\n",
    "        display = f'{hour:02d}:{minute:02d}'\n",
    "        if '3' in display:\n",
    "            total_second +=60\n",
    "print(total_second)"
   ]
  },
  {
   "cell_type": "markdown",
   "metadata": {},
   "source": [
    "- 숫자 갯수\n",
    "- 1~1000에서 각 숫자의 개수를 구하시오."
   ]
  },
  {
   "cell_type": "code",
   "execution_count": null,
   "metadata": {},
   "outputs": [],
   "source": [
    "# 자료형태는 \n",
    "# 0갯수, 1 갯수, .... 9 갯수 구해서 [, , , , , ] 리스트로 만들거나\n",
    "# {0: , 1: , ..... 9: } 딕셔너리로 만들거나 (이게 더!)"
   ]
  },
  {
   "cell_type": "code",
   "execution_count": 16,
   "metadata": {},
   "outputs": [
    {
     "data": {
      "text/plain": [
       "{0: 9, 1: 19, 2: 19, 3: 19, 4: 19, 5: 19, 6: 19, 7: 19, 8: 19, 9: 19}"
      ]
     },
     "execution_count": 16,
     "metadata": {},
     "output_type": "execute_result"
    }
   ],
   "source": [
    "# 10 ~ 99\n",
    "# 십의 자리: n // 10 (몫)\n",
    "# 일의 자리 : n % 10  (나머지)\n",
    "\n",
    "number_count = {i:0 for i in range(10)}    # i 의 초기값 0     # 키값은 i \n",
    "for n in range(10, 100):\n",
    "    number_count[n//10]+=1\n",
    "    number_count[n%10] +=1\n",
    "number_count"
   ]
  },
  {
   "cell_type": "code",
   "execution_count": 17,
   "metadata": {},
   "outputs": [
    {
     "data": {
      "text/plain": [
       "{0: 9, 1: 19, 2: 19, 3: 19, 4: 19, 5: 19, 6: 19, 7: 19, 8: 19, 9: 19}"
      ]
     },
     "execution_count": 17,
     "metadata": {},
     "output_type": "execute_result"
    }
   ],
   "source": [
    "number_count = {i:0 for i in range(10)}\n",
    "for n in range(10, 100):\n",
    "    ten, one = n//10, n%10\n",
    "    number_count[ten]+=1\n",
    "    number_count[one] +=1\n",
    "number_count"
   ]
  },
  {
   "cell_type": "code",
   "execution_count": null,
   "metadata": {},
   "outputs": [],
   "source": [
    "# 100 ~ 999 \n",
    "# 백자리 : n // 100\n",
    "# 십자리 : (n//10)%10\n",
    "# 일자리 : n % 10"
   ]
  },
  {
   "cell_type": "code",
   "execution_count": 22,
   "metadata": {},
   "outputs": [
    {
     "data": {
      "text/plain": [
       "{0: 192,\n",
       " 1: 301,\n",
       " 2: 300,\n",
       " 3: 300,\n",
       " 4: 300,\n",
       " 5: 300,\n",
       " 6: 300,\n",
       " 7: 300,\n",
       " 8: 300,\n",
       " 9: 300}"
      ]
     },
     "execution_count": 22,
     "metadata": {},
     "output_type": "execute_result"
    }
   ],
   "source": [
    "# 다른 방법 \n",
    "\n",
    "number_count = {i:0 for i in range(10)}\n",
    "number_string = ''\n",
    "for i in range(1, 1001): # 이게 스트링i인가?\n",
    "    number_string += str(i)\n",
    "for i in range(10):\n",
    "    number_count[i] = number_string.count(str(i))\n",
    "number_count"
   ]
  },
  {
   "cell_type": "markdown",
   "metadata": {},
   "source": [
    "- 완전수 \n",
    "- 자기 제외 모든 양의 약수의 합이 자신이 되는 자연수를 완전수\n",
    "- 입력으로 자연수 N을 받고, 출력으로 N 이하 모든 완전수를 출력하는 코드 작성\n",
    "- i가 N의 약수 - N%i ==0"
   ]
  },
  {
   "cell_type": "code",
   "execution_count": null,
   "metadata": {},
   "outputs": [],
   "source": [
    "N = int(input())\n",
    "for i in range(2, N+1):\n",
    "    sum_of_divisor = 0\n",
    "    for k in range(1, i) "
   ]
  },
  {
   "cell_type": "code",
   "execution_count": 30,
   "metadata": {},
   "outputs": [
    {
     "name": "stdout",
     "output_type": "stream",
     "text": [
      "6\n",
      "28\n",
      "496\n",
      "8128\n"
     ]
    }
   ],
   "source": [
    "N = int(input())\n",
    "for i in range(2, N+1):\n",
    "    sum_of_divisor = 0 # 약수의 합\n",
    "    for k in range(1, i): # 자기자신을 제외..i\n",
    "        if i % k == 0:\n",
    "            sum_of_divisor += k \n",
    "    if sum_of_divisor == i: #완전수면\n",
    "        print(sum_of_divisor)"
   ]
  },
  {
   "cell_type": "code",
   "execution_count": null,
   "metadata": {},
   "outputs": [],
   "source": [
    "N = int(input())\n",
    "for i in range(2, N+1):\n",
    "    sum_of_divisor = 0 # 약수의 합                 \n",
    "    for k in range(1, i): # 자기자신을 제외..i         -^완전수의 합이 자신이 되는 로직 먼저 설계 \n",
    "        if i % k == 0:\n",
    "            sum_of_divisor += k                \n",
    "    if sum_of_divisor == i: #완전수면\n",
    "        print(sum_of_divisor)"
   ]
  },
  {
   "cell_type": "markdown",
   "metadata": {},
   "source": [
    "- 완전수를 확인하는 is_perfect(n) 함수 만들어서 완전수 풀이"
   ]
  },
  {
   "cell_type": "code",
   "execution_count": null,
   "metadata": {},
   "outputs": [],
   "source": [
    "\n"
   ]
  },
  {
   "cell_type": "code",
   "execution_count": 9,
   "metadata": {},
   "outputs": [],
   "source": [
    "# me 작성 풀이(T작성이랑 비교)\n",
    "# 완전수인지 확인하는 함수 생성\n",
    "def is_perfect(n):\n",
    "    for i in range(2, n+1):\n",
    "        sum_of_divisor = 0                  \n",
    "    for k in range(1, i):       \n",
    "        if i % k == 0:\n",
    "            sum_of_divisor += k                \n",
    "    if sum_of_divisor == i: \n",
    "        print(sum_of_divisor)\n",
    "    "
   ]
  },
  {
   "cell_type": "code",
   "execution_count": 10,
   "metadata": {},
   "outputs": [
    {
     "name": "stdout",
     "output_type": "stream",
     "text": [
      "6\n",
      "28\n",
      "496\n",
      "8128\n"
     ]
    }
   ],
   "source": [
    "N = int(input())\n",
    "for i in range(2, N+1):\n",
    "    if is_perfect(i):\n",
    "        print(i)"
   ]
  },
  {
   "cell_type": "code",
   "execution_count": 7,
   "metadata": {},
   "outputs": [],
   "source": [
    "# T 작성 풀이 \n",
    "\n",
    "def is_perfect(i):\n",
    "    sum_of_divisor = 0                  \n",
    "    for k in range(1, i):       \n",
    "        if i % k == 0:\n",
    "            sum_of_divisor += k                \n",
    "    if sum_of_divisor == i: \n",
    "        return True\n",
    "    else:\n",
    "        return False "
   ]
  },
  {
   "cell_type": "code",
   "execution_count": 18,
   "metadata": {},
   "outputs": [],
   "source": [
    "def is_perfect(i):                      # 약수의 합이 완전수이면 출력하는 함수 is_perfect(i) 생성\n",
    "    sum_of_divisor = 0                  # 먼저 약수의 합을 0으로 초기화 \n",
    "    for k in range(1, i):               # 반복문에서 1~i-1까지(자기자신을 제외해야 하니까 i-1)  \n",
    "        if i % k == 0:                  # k가 i의 약수면\n",
    "            sum_of_divisor += k         # 약수의 합에 계속 더해준다. // 약수의 합 구하는 건 끝         \n",
    "    if sum_of_divisor == i:             # 약수의 합이 스스로가 되면\n",
    "        return True                     # True로 넘어가\n",
    "    else:                               # 아니면 False로\n",
    "        return False "
   ]
  },
  {
   "cell_type": "code",
   "execution_count": 8,
   "metadata": {},
   "outputs": [
    {
     "name": "stdout",
     "output_type": "stream",
     "text": [
      "6\n",
      "28\n",
      "496\n",
      "8128\n"
     ]
    }
   ],
   "source": [
    "N = int(input())                            # 함수 내의 i는 외부의 i는 별개의 것. it's okay! \n",
    "for i in range(2, N+1):\n",
    "    if is_perfect(i):\n",
    "        print(i)\n",
    "\n",
    "\n"
   ]
  },
  {
   "cell_type": "markdown",
   "metadata": {},
   "source": [
    "- 제곱의 합, 합의 제곱 \n",
    "- 입력으로 자연수 N을 받아, 1부터 N까지 자연수에 대해 합의 제곱과 제곱의 합의 차이를 구해라 "
   ]
  },
  {
   "cell_type": "code",
   "execution_count": 1,
   "metadata": {},
   "outputs": [
    {
     "name": "stdout",
     "output_type": "stream",
     "text": [
      "합의 제곱 - 제곱의 합 = 25164150\n"
     ]
    }
   ],
   "source": [
    "N = int(input())\n",
    "sum_of_square = 0  # 제곱의 합 \n",
    "sum_of_plain = 0   # 어떤 합 \n",
    "for i in range(1,N+1):\n",
    "    sum_of_plain +=i\n",
    "    sum_of_square +=i*i\n",
    "print(f'합의 제곱 - 제곱의 합 = {sum_of_plain**2 - sum_of_square}')"
   ]
  },
  {
   "cell_type": "code",
   "execution_count": null,
   "metadata": {},
   "outputs": [],
   "source": []
  }
 ],
 "metadata": {
  "interpreter": {
   "hash": "d990e0f5c79ab62bfe20220d5fc8769a25e3da57dce2813cc13c29871ddc1bfb"
  },
  "kernelspec": {
   "display_name": "Python 3.8.8 64-bit ('base': conda)",
   "language": "python",
   "name": "python3"
  },
  "language_info": {
   "codemirror_mode": {
    "name": "ipython",
    "version": 3
   },
   "file_extension": ".py",
   "mimetype": "text/x-python",
   "name": "python",
   "nbconvert_exporter": "python",
   "pygments_lexer": "ipython3",
   "version": "3.8.8"
  },
  "orig_nbformat": 4
 },
 "nbformat": 4,
 "nbformat_minor": 2
}
