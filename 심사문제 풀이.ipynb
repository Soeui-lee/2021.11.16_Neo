{
 "cells": [
  {
   "cell_type": "markdown",
   "metadata": {},
   "source": [
    "- Unit 14"
   ]
  },
  {
   "cell_type": "code",
   "execution_count": 4,
   "metadata": {},
   "outputs": [
    {
     "name": "stdout",
     "output_type": "stream",
     "text": [
      "잘못된 점수\n"
     ]
    }
   ],
   "source": [
    "korean, english, math, science = map(int, input().split())\n",
    "if 0<=korean<=100 and 0<=english<=100 and 0<=math<=100 and 0<=science<=100:\n",
    "    if (korean+english+math+science) / 4 >= 80:\n",
    "        print('합격')\n",
    "    else:\n",
    "        print('불합격')\n",
    "else: \n",
    "    print('잘못된 점수')\n",
    "\n",
    "    # % : 배수 \n",
    "    # / : 나누기 **구분!! \n",
    "    "
   ]
  },
  {
   "cell_type": "code",
   "execution_count": 7,
   "metadata": {},
   "outputs": [
    {
     "ename": "ValueError",
     "evalue": "Invalid format specifier",
     "output_type": "error",
     "traceback": [
      "\u001b[1;31m---------------------------------------------------------------------------\u001b[0m",
      "\u001b[1;31mValueError\u001b[0m                                Traceback (most recent call last)",
      "\u001b[1;32m<ipython-input-7-f6db735e0a93>\u001b[0m in \u001b[0;36m<module>\u001b[1;34m\u001b[0m\n\u001b[0;32m      9\u001b[0m     \u001b[0mfare\u001b[0m \u001b[1;33m=\u001b[0m \u001b[1;36m1250\u001b[0m\u001b[1;33m\u001b[0m\u001b[1;33m\u001b[0m\u001b[0m\n\u001b[0;32m     10\u001b[0m \u001b[1;33m\u001b[0m\u001b[0m\n\u001b[1;32m---> 11\u001b[1;33m \u001b[0mprint\u001b[0m\u001b[1;33m(\u001b[0m\u001b[1;34mf'{age}살의 요금은 {fare}원이고, 잔액은 {balance-fare:, d}원입니다.'\u001b[0m\u001b[1;33m)\u001b[0m\u001b[1;33m\u001b[0m\u001b[1;33m\u001b[0m\u001b[0m\n\u001b[0m\u001b[0;32m     12\u001b[0m \u001b[1;33m\u001b[0m\u001b[0m\n",
      "\u001b[1;31mValueError\u001b[0m: Invalid format specifier"
     ]
    }
   ],
   "source": [
    "\n",
    "    "
   ]
  },
  {
   "cell_type": "markdown",
   "metadata": {},
   "source": [
    "- unit 15"
   ]
  },
  {
   "cell_type": "code",
   "execution_count": 5,
   "metadata": {},
   "outputs": [
    {
     "name": "stdout",
     "output_type": "stream",
     "text": [
      "24살의 요금은 1250원이고, 잔액은 7,750원입니다.\n"
     ]
    }
   ],
   "source": [
    "age = int(input('나이 입력'))\n",
    "balance = 9000\n",
    "\n",
    "if 7 <= age <= 12: \n",
    "    fare = 650\n",
    "elif 13 <= age <=18:\n",
    "    fare = 1050\n",
    "elif age >= 19:\n",
    "    fare = 1250\n",
    "else:\n",
    "    fare = 0\n",
    "\n",
    "print(f'{age}살의 요금은 {fare}원이고, 잔액은 {balance-fare:,d}원입니다.')"
   ]
  },
  {
   "cell_type": "code",
   "execution_count": null,
   "metadata": {},
   "outputs": [],
   "source": [
    "age = int(input('나이 입력'))\n",
    "balance = 9000\n",
    "\n",
    "if 7 <= age <= 12: \n",
    "    fare = 650\n",
    "elif 13 <= age <=18:\n",
    "    fare = 1050\n",
    "else:\n",
    "    fare = 1250\n",
    "\n",
    "print(f'{age}살의 요금은 {fare}원이고, 잔액은 {balance-fare:, d}원입니다.')\n",
    "\n",
    "# 선생님이 하다 만 건데, 이거 안되나? "
   ]
  },
  {
   "cell_type": "code",
   "execution_count": null,
   "metadata": {},
   "outputs": [],
   "source": [
    "# 나의 풀이    #코딩도장에 맞음 처리 되는 답 \n",
    "\n",
    "age = int(input())\n",
    "balance = 9000 \n",
    "if 7 <= age <= 12:\n",
    "    balance = balance-650\n",
    "elif 13 <= age <= 18:\n",
    "    balance = balance-1050\n",
    "elif age >= 19:\n",
    "    balance = balance-1250\n",
    "    \n",
    "print(balance)"
   ]
  },
  {
   "cell_type": "markdown",
   "metadata": {},
   "source": [
    "- unit 16"
   ]
  },
  {
   "cell_type": "code",
   "execution_count": 1,
   "metadata": {},
   "outputs": [
    {
     "name": "stdout",
     "output_type": "stream",
     "text": [
      "4 * 1 = 4\n",
      "4 * 2 = 8\n",
      "4 * 3 = 12\n",
      "4 * 4 = 16\n",
      "4 * 5 = 20\n",
      "4 * 6 = 24\n",
      "4 * 7 = 28\n",
      "4 * 8 = 32\n",
      "4 * 9 = 36\n"
     ]
    }
   ],
   "source": [
    "n = int(input())\n",
    "for i in range(1,10):\n",
    "    print(f'{n} * {i} = {n*i}')"
   ]
  },
  {
   "cell_type": "markdown",
   "metadata": {},
   "source": [
    "- unit 17"
   ]
  },
  {
   "cell_type": "code",
   "execution_count": 10,
   "metadata": {},
   "outputs": [
    {
     "name": "stdout",
     "output_type": "stream",
     "text": [
      "7650\n",
      "6300\n",
      "4950\n",
      "3600\n",
      "2250\n",
      "900\n"
     ]
    }
   ],
   "source": [
    "balance = int(input())\n",
    "fare = 1350\n",
    "\n",
    "while balance - fare >=0:\n",
    "    balance -= fare\n",
    "    print(balance)"
   ]
  },
  {
   "cell_type": "code",
   "execution_count": 11,
   "metadata": {},
   "outputs": [
    {
     "name": "stdout",
     "output_type": "stream",
     "text": [
      "7650\n",
      "6300\n",
      "4950\n",
      "3600\n",
      "2250\n",
      "900\n"
     ]
    }
   ],
   "source": [
    "balance = int(input())\n",
    "fare = 1350\n",
    "\n",
    "while balance >= fare: # 잔액이 요금보다 클 동안만 계산을 돌림 \n",
    "    balance -= fare\n",
    "    print(balance)"
   ]
  },
  {
   "cell_type": "markdown",
   "metadata": {},
   "source": [
    "- unit 18"
   ]
  },
  {
   "cell_type": "code",
   "execution_count": null,
   "metadata": {},
   "outputs": [],
   "source": [
    "start, stop = map(int, input().split())\n",
    "i = start \n",
    "while True: \n",
    "    if i > stop:\n",
    "        break\n",
    "    if i %15 == 3:\n",
    "        #i +=1 을 여기 넣어야 한다고... (?)\n",
    "        continue\n",
    "    print(i, end=' ')\n",
    "    i += 1 \n",
    "\n",
    "# 1교시 20분보다 좀 더 전에 한 번 더 듣기 \n"
   ]
  },
  {
   "cell_type": "markdown",
   "metadata": {},
   "source": [
    "- Unit 19"
   ]
  },
  {
   "cell_type": "code",
   "execution_count": 13,
   "metadata": {},
   "outputs": [
    {
     "name": "stdout",
     "output_type": "stream",
     "text": [
      "  *\n",
      " ***\n",
      "*****\n"
     ]
    }
   ],
   "source": [
    "# 공백은 n-i-1 / 별은 2 * i + 1\n",
    "n = int(input())\n",
    "\n",
    "for i in range(n):\n",
    "    for k in range(n-i-1):\n",
    "        print(' ', end ='')\n",
    "    for k in range(2 * i + 1):\n",
    "        print('*', end='')\n",
    "    print()"
   ]
  },
  {
   "cell_type": "code",
   "execution_count": 14,
   "metadata": {},
   "outputs": [
    {
     "name": "stdout",
     "output_type": "stream",
     "text": [
      "    *\n",
      "   ***\n",
      "  *****\n",
      " *******\n",
      "*********\n"
     ]
    }
   ],
   "source": [
    "# 3, 5 순으로 입력함 \n",
    "\n",
    "n = int(input())\n",
    "\n",
    "for i in range(n):\n",
    "    for k in range(n-i-1):\n",
    "        print(' ', end ='')\n",
    "    for k in range(2 * i + 1):\n",
    "        print('*', end='')\n",
    "    print()"
   ]
  },
  {
   "cell_type": "code",
   "execution_count": 15,
   "metadata": {},
   "outputs": [
    {
     "name": "stdout",
     "output_type": "stream",
     "text": [
      "  *\n",
      " ***\n",
      "*****\n"
     ]
    }
   ],
   "source": [
    "# 심사 문제 아니면 이렇게도 가능하다고..그냥 편하게 \n",
    "n = int(input())\n",
    "\n",
    "for i in range(n):\n",
    "    print(' '*(n-i-1) + '*'*(2*i+1))"
   ]
  },
  {
   "cell_type": "code",
   "execution_count": null,
   "metadata": {},
   "outputs": [],
   "source": []
  }
 ],
 "metadata": {
  "interpreter": {
   "hash": "d990e0f5c79ab62bfe20220d5fc8769a25e3da57dce2813cc13c29871ddc1bfb"
  },
  "kernelspec": {
   "display_name": "Python 3.8.8 64-bit ('base': conda)",
   "language": "python",
   "name": "python3"
  },
  "language_info": {
   "codemirror_mode": {
    "name": "ipython",
    "version": 3
   },
   "file_extension": ".py",
   "mimetype": "text/x-python",
   "name": "python",
   "nbconvert_exporter": "python",
   "pygments_lexer": "ipython3",
   "version": "3.8.8"
  },
  "orig_nbformat": 4
 },
 "nbformat": 4,
 "nbformat_minor": 2
}
