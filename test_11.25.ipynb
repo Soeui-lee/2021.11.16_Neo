{
 "cells": [
  {
   "cell_type": "markdown",
   "metadata": {},
   "source": [
    "# 11"
   ]
  },
  {
   "cell_type": "code",
   "execution_count": 84,
   "metadata": {},
   "outputs": [
    {
     "name": "stdout",
     "output_type": "stream",
     "text": [
      "3\n",
      "3\n",
      "3\n"
     ]
    }
   ],
   "source": [
    "n = int(input())\n",
    "for i in range(0,n):\n",
    "    print(n)\n",
    "\n"
   ]
  },
  {
   "cell_type": "markdown",
   "metadata": {},
   "source": [
    "# 12"
   ]
  },
  {
   "cell_type": "code",
   "execution_count": 103,
   "metadata": {},
   "outputs": [
    {
     "name": "stdout",
     "output_type": "stream",
     "text": [
      "3\n",
      "4\n",
      "5\n",
      "-1\n",
      "12\n"
     ]
    }
   ],
   "source": [
    "# t\n",
    "sum_of_input = 0\n",
    "while True:\n",
    "    n = int(input())\n",
    "    print(n)\n",
    "    if n < 0:\n",
    "        break;\n",
    "    sum_of_input += n\n",
    "print(sum_of_input)"
   ]
  },
  {
   "cell_type": "code",
   "execution_count": 29,
   "metadata": {},
   "outputs": [
    {
     "name": "stdout",
     "output_type": "stream",
     "text": [
      "12\n"
     ]
    }
   ],
   "source": [
    "# for 문\n",
    "n =int(input())\n",
    "for i in range(n):\n",
    "    if i > 0 :\n",
    "        n +=n \n",
    "    elif i < 0:\n",
    "        print(n)\n",
    "print(n)"
   ]
  },
  {
   "cell_type": "code",
   "execution_count": 31,
   "metadata": {},
   "outputs": [
    {
     "ename": "SyntaxError",
     "evalue": "invalid syntax (<ipython-input-31-773e985f9aa3>, line 4)",
     "output_type": "error",
     "traceback": [
      "\u001b[1;36m  File \u001b[1;32m\"<ipython-input-31-773e985f9aa3>\"\u001b[1;36m, line \u001b[1;32m4\u001b[0m\n\u001b[1;33m    print(n += n)\u001b[0m\n\u001b[1;37m            ^\u001b[0m\n\u001b[1;31mSyntaxError\u001b[0m\u001b[1;31m:\u001b[0m invalid syntax\n"
     ]
    }
   ],
   "source": [
    "# while 문\n",
    "n = int(input())\n",
    "i = 0\n",
    "while i >= 0:\n",
    "    print(n += n) "
   ]
  },
  {
   "cell_type": "markdown",
   "metadata": {},
   "source": [
    "# 13"
   ]
  },
  {
   "cell_type": "code",
   "execution_count": 104,
   "metadata": {},
   "outputs": [
    {
     "name": "stdout",
     "output_type": "stream",
     "text": [
      "1076890.62\n"
     ]
    }
   ],
   "source": [
    "# t \n",
    "def compound_amount(p,r,n):\n",
    "    return p * (1+r)**n\n",
    "\n",
    "print(round(compound_amount(1000000, 0.025,3),2))\n",
    "\n",
    "# 식이 주어지면 식을 사용\n",
    "# 안 주어지면 반복문 사용 <??"
   ]
  },
  {
   "cell_type": "code",
   "execution_count": 39,
   "metadata": {},
   "outputs": [
    {
     "ename": "TypeError",
     "evalue": "'int' object is not callable",
     "output_type": "error",
     "traceback": [
      "\u001b[1;31m---------------------------------------------------------------------------\u001b[0m",
      "\u001b[1;31mTypeError\u001b[0m                                 Traceback (most recent call last)",
      "\u001b[1;32m<ipython-input-39-6b4dd2fa3775>\u001b[0m in \u001b[0;36m<module>\u001b[1;34m\u001b[0m\n\u001b[0;32m      6\u001b[0m     \u001b[0mn\u001b[0m \u001b[1;33m=\u001b[0m \u001b[0mint\u001b[0m\u001b[1;33m(\u001b[0m\u001b[0mn\u001b[0m\u001b[1;33m)\u001b[0m\u001b[1;33m\u001b[0m\u001b[1;33m\u001b[0m\u001b[0m\n\u001b[0;32m      7\u001b[0m     \u001b[1;32mreturn\u001b[0m \u001b[0mp\u001b[0m\u001b[1;33m(\u001b[0m\u001b[1;36m1\u001b[0m\u001b[1;33m+\u001b[0m\u001b[0mr\u001b[0m\u001b[1;33m)\u001b[0m\u001b[1;33m**\u001b[0m\u001b[0mn\u001b[0m\u001b[1;33m\u001b[0m\u001b[1;33m\u001b[0m\u001b[0m\n\u001b[1;32m----> 8\u001b[1;33m \u001b[0mQ\u001b[0m \u001b[1;33m=\u001b[0m \u001b[0mcompound_amount\u001b[0m\u001b[1;33m(\u001b[0m\u001b[0mp\u001b[0m\u001b[1;33m,\u001b[0m\u001b[0mr\u001b[0m\u001b[1;33m,\u001b[0m\u001b[0mn\u001b[0m\u001b[1;33m)\u001b[0m\u001b[1;33m\u001b[0m\u001b[1;33m\u001b[0m\u001b[0m\n\u001b[0m\u001b[0;32m      9\u001b[0m \u001b[0mprint\u001b[0m\u001b[1;33m(\u001b[0m\u001b[0mQ\u001b[0m\u001b[1;33m)\u001b[0m\u001b[1;33m\u001b[0m\u001b[1;33m\u001b[0m\u001b[0m\n",
      "\u001b[1;32m<ipython-input-39-6b4dd2fa3775>\u001b[0m in \u001b[0;36mcompound_amount\u001b[1;34m(p, r, n)\u001b[0m\n\u001b[0;32m      5\u001b[0m     \u001b[0mr\u001b[0m \u001b[1;33m=\u001b[0m \u001b[0mfloat\u001b[0m\u001b[1;33m(\u001b[0m\u001b[0mr\u001b[0m\u001b[1;33m)\u001b[0m\u001b[1;33m\u001b[0m\u001b[1;33m\u001b[0m\u001b[0m\n\u001b[0;32m      6\u001b[0m     \u001b[0mn\u001b[0m \u001b[1;33m=\u001b[0m \u001b[0mint\u001b[0m\u001b[1;33m(\u001b[0m\u001b[0mn\u001b[0m\u001b[1;33m)\u001b[0m\u001b[1;33m\u001b[0m\u001b[1;33m\u001b[0m\u001b[0m\n\u001b[1;32m----> 7\u001b[1;33m     \u001b[1;32mreturn\u001b[0m \u001b[0mp\u001b[0m\u001b[1;33m(\u001b[0m\u001b[1;36m1\u001b[0m\u001b[1;33m+\u001b[0m\u001b[0mr\u001b[0m\u001b[1;33m)\u001b[0m\u001b[1;33m**\u001b[0m\u001b[0mn\u001b[0m\u001b[1;33m\u001b[0m\u001b[1;33m\u001b[0m\u001b[0m\n\u001b[0m\u001b[0;32m      8\u001b[0m \u001b[0mQ\u001b[0m \u001b[1;33m=\u001b[0m \u001b[0mcompound_amount\u001b[0m\u001b[1;33m(\u001b[0m\u001b[0mp\u001b[0m\u001b[1;33m,\u001b[0m\u001b[0mr\u001b[0m\u001b[1;33m,\u001b[0m\u001b[0mn\u001b[0m\u001b[1;33m)\u001b[0m\u001b[1;33m\u001b[0m\u001b[1;33m\u001b[0m\u001b[0m\n\u001b[0;32m      9\u001b[0m \u001b[0mprint\u001b[0m\u001b[1;33m(\u001b[0m\u001b[0mQ\u001b[0m\u001b[1;33m)\u001b[0m\u001b[1;33m\u001b[0m\u001b[1;33m\u001b[0m\u001b[0m\n",
      "\u001b[1;31mTypeError\u001b[0m: 'int' object is not callable"
     ]
    }
   ],
   "source": [
    "p,r,n = (1000000, 2.5, 3)       # 함수에서는 int 읽X, 매개변수! 검증시 \n",
    "\n",
    "def compound_amount(p,r,n):\n",
    "    p = int(p)\n",
    "    r = float(r)\n",
    "    n = int(n)\n",
    "    return p(1+r)**n\n",
    "Q = compound_amount(p,r,n)\n",
    "print(Q)\n"
   ]
  },
  {
   "cell_type": "markdown",
   "metadata": {},
   "source": [
    "# 14"
   ]
  },
  {
   "cell_type": "code",
   "execution_count": 120,
   "metadata": {},
   "outputs": [
    {
     "name": "stdout",
     "output_type": "stream",
     "text": [
      "21\n"
     ]
    }
   ],
   "source": [
    "# t\n",
    "\n",
    "# 12345 -string으로 만들면 '12345' - 다시 list로 만들면 ['1','2'....'5']\n",
    "# 각각으로 int로 바꾼 다음 더해주면 가능 \n",
    "\n",
    "def sumOfDigits(num):\n",
    "    s = str(num)\n",
    "    sum_of_digits = 0       # 초기화\n",
    "    for digit in list(s):\n",
    "        sum_of_digits += int(digit)\n",
    "    return sum_of_digits\n",
    "\n",
    "print(sumOfDigits(123456))\n",
    "\n"
   ]
  },
  {
   "cell_type": "code",
   "execution_count": null,
   "metadata": {},
   "outputs": [],
   "source": [
    "def sum0fDigits():\n",
    "    num = int(input())\n",
    "    return "
   ]
  },
  {
   "cell_type": "markdown",
   "metadata": {},
   "source": [
    "# 15"
   ]
  },
  {
   "cell_type": "code",
   "execution_count": 121,
   "metadata": {},
   "outputs": [],
   "source": [
    "#t\n",
    "\n",
    "def is_prime(n):        # 10 들어왔다 치면 1,10제외 2~9까지를 제외하는 거니까 range(2,n)\n",
    "    for i in range(2,n):\n",
    "        if n % i == 0:\n",
    "            return False\n",
    "    return True"
   ]
  },
  {
   "cell_type": "code",
   "execution_count": 122,
   "metadata": {},
   "outputs": [
    {
     "name": "stdout",
     "output_type": "stream",
     "text": [
      "[2, 3, 5, 7, 11, 13, 17, 19, 23, 29, 31, 37, 41, 43, 47, 53, 59, 61, 67, 71, 73, 79, 83, 89, 97]\n"
     ]
    }
   ],
   "source": [
    "# t2\n",
    "# 되도록 표현식으로 \n",
    "# 나 이거 조 ㅁ다르게 나오는데 2~ 97  \n",
    "\n",
    "prime_numbers = [i for i in range(2,101) if is_prime(i)]\n",
    "print(prime_numbers)"
   ]
  },
  {
   "cell_type": "code",
   "execution_count": 124,
   "metadata": {},
   "outputs": [
    {
     "name": "stdout",
     "output_type": "stream",
     "text": [
      "[2, 3, 5, 7, 11, 13, 17, 19, 23, 29, 31, 37, 41, 43, 47, 53, 59, 61, 67, 71, 73, 79, 83, 89, 97]\n"
     ]
    }
   ],
   "source": [
    "# 책 \n",
    "numbers = list(range(2,101))\n",
    "for i in prime_numbers:\n",
    "    for k in range(2*i,101,i):\n",
    "        if k in numbers:\n",
    "            numbers.remove(k)\n",
    "print(numbers)\n",
    "\n",
    "# 얘도 이상한데 "
   ]
  },
  {
   "cell_type": "markdown",
   "metadata": {},
   "source": [
    "# 16"
   ]
  },
  {
   "cell_type": "code",
   "execution_count": 130,
   "metadata": {},
   "outputs": [
    {
     "name": "stdout",
     "output_type": "stream",
     "text": [
      "22021-11-31\n",
      "22021-11-32\n"
     ]
    }
   ],
   "source": [
    "y,m,d = map(int, input().split())\n",
    "d2 = d+1\n",
    "\n",
    "print(f'{y:04d}-{m:02d}-{d:02d}')\n",
    "print(f'{y:04d}-{m:02d}-{d2:02d}')\n",
    "\n",
    "# 틀렸음 \n"
   ]
  },
  {
   "cell_type": "code",
   "execution_count": null,
   "metadata": {},
   "outputs": [],
   "source": [
    "# T \n",
    "# 2021 11 30 눌렀을 때 12 1 이 제대로 나오는지 \n",
    "# 2021 12 31 눌렀을 때 2022 01 01 제대로 나오는지 "
   ]
  },
  {
   "cell_type": "markdown",
   "metadata": {},
   "source": [
    "# 17"
   ]
  },
  {
   "cell_type": "code",
   "execution_count": 86,
   "metadata": {},
   "outputs": [
    {
     "name": "stdout",
     "output_type": "stream",
     "text": [
      "4.472\n"
     ]
    }
   ],
   "source": [
    "import math\n",
    "a,b = map(int,input().split())\n",
    "def hypotenuse(a,b):\n",
    "    return math.sqrt(a*a + b*b) \n",
    "\n",
    "c = hypotenuse(a,b)\n",
    "print('%.3f'%c)\n",
    "\n",
    "# 루트 \n",
    "# 소수점 ( 3자리까지라는 건 4자리에서 반올림?)\n",
    "\n"
   ]
  },
  {
   "cell_type": "markdown",
   "metadata": {},
   "source": [
    "# 18"
   ]
  },
  {
   "cell_type": "code",
   "execution_count": 93,
   "metadata": {},
   "outputs": [
    {
     "name": "stdout",
     "output_type": "stream",
     "text": [
      "8\n",
      "2\n",
      "4\n",
      "8\n",
      "12\n"
     ]
    }
   ],
   "source": [
    "import random\n",
    "while True:\n",
    "    d1=random.randint(1,6)\n",
    "    d2=random.randint(1,6)\n",
    "    print(d1 + d2)          # 이런 식을 반복할 건데 \n",
    "    \n",
    "    \n",
    "    if d1+d2 >= 10:         # 합이 10 이상이면 반복문 멈춰라 \n",
    "        break\n",
    "    \n"
   ]
  },
  {
   "cell_type": "code",
   "execution_count": 111,
   "metadata": {},
   "outputs": [
    {
     "name": "stdout",
     "output_type": "stream",
     "text": [
      "6\n",
      "11\n"
     ]
    }
   ],
   "source": [
    "# t\n",
    "import random\n",
    "while True:\n",
    "    d1=random.randint(1,6)\n",
    "    d1+=random.randint(1,6)\n",
    "    print(d1)          # 이런 식을 반복할 건데 \n",
    "    \n",
    "    \n",
    "    if d1 >= 10:         # 합이 10 이상이면 반복문 멈춰라 \n",
    "        break"
   ]
  },
  {
   "cell_type": "markdown",
   "metadata": {},
   "source": [
    "# 19"
   ]
  },
  {
   "cell_type": "code",
   "execution_count": null,
   "metadata": {},
   "outputs": [],
   "source": [
    "# y >= 45 : y -45\n",
    "# y < = 45 : x -1 and 60 - y     # t (여기서 한번 더 생각해보기 )\n",
    "# print(f'{x:02d}시 {y:02d}분')"
   ]
  },
  {
   "cell_type": "code",
   "execution_count": 101,
   "metadata": {},
   "outputs": [
    {
     "name": "stdout",
     "output_type": "stream",
     "text": [
      "06시 60분\n"
     ]
    }
   ],
   "source": [
    "x, y = map(int, input().split())\n",
    "if y >= 45:\n",
    "    y2 = y-45\n",
    "    print(f'{x:02d}시 {y2:02d}분')\n",
    "elif y < 45:\n",
    "    x2 = x - 1 \n",
    "    y3 = 60 - y \n",
    "    print(f'{x2:02d}시 {y3:02d}분')\n",
    "\n",
    "\n"
   ]
  },
  {
   "cell_type": "code",
   "execution_count": null,
   "metadata": {},
   "outputs": [],
   "source": [
    "x, y = map(int, input().split())\n",
    "if y >= 45:\n",
    "    y2 = y-45\n",
    "    print(f'{x}시 {y2}분')\n",
    "elif y < 45:\n",
    "    x2 = x - 1 \n",
    "    y3 = 60 - y \n",
    "    print(f'{x2}시 {y3}분')"
   ]
  },
  {
   "cell_type": "code",
   "execution_count": null,
   "metadata": {},
   "outputs": [],
   "source": [
    "# 만약에 16번처럼 두자리로 입력학 싶다면? "
   ]
  },
  {
   "cell_type": "markdown",
   "metadata": {},
   "source": [
    "# 20"
   ]
  },
  {
   "cell_type": "markdown",
   "metadata": {},
   "source": [
    "- 1~1000 등 숫자 카운트 하기 - 딕셔너리 사용"
   ]
  },
  {
   "cell_type": "code",
   "execution_count": 112,
   "metadata": {},
   "outputs": [],
   "source": [
    "# 스페이스를 기준으로 나누기 / 구두점 제거 / 소문자로 통일하기 / 리스트로 만들기 ...\n",
    "# ['a', 'the', 'a', 'the', 'in'....]--{'a':1}-{a:1, the:1}-{a:2,the:1}...( ''이 딕에도 들어가는지 모르겠다..)"
   ]
  }
 ],
 "metadata": {
  "interpreter": {
   "hash": "11a4a60b518bf24989d481468076e5d5982884626aed9faeb35b8576fcd223e1"
  },
  "kernelspec": {
   "display_name": "Python 3.8.8 64-bit",
   "language": "python",
   "name": "python3"
  },
  "language_info": {
   "codemirror_mode": {
    "name": "ipython",
    "version": 3
   },
   "file_extension": ".py",
   "mimetype": "text/x-python",
   "name": "python",
   "nbconvert_exporter": "python",
   "pygments_lexer": "ipython3",
   "version": "3.8.8"
  },
  "orig_nbformat": 4
 },
 "nbformat": 4,
 "nbformat_minor": 2
}
